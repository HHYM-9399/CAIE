{
 "cells": [
  {
   "cell_type": "markdown",
   "metadata": {
    "id": "lWT31Q4ed8zF"
   },
   "source": [
    "# Brazilian E-Commerce Olist Public Dataset"
   ]
  },
  {
   "cell_type": "markdown",
   "metadata": {
    "id": "LwM5YPSIeJRF"
   },
   "source": [
    "This EDA focusing on analyzing the dataset from the Brazilian e-commerce platform Olist to identify potential repeat buyers. This dataset contains 100k orders from 2016 to 2018 including data such as order status, price, payment, freight information, customer location, product attributes, and customer reviews. The primary objective is to identify patterns, trends and attributes of repeat buyers.\n"
   ]
  },
  {
   "cell_type": "markdown",
   "metadata": {
    "id": "2K_e0FLw_L4F"
   },
   "source": [
    "## Imports"
   ]
  },
  {
   "cell_type": "code",
   "execution_count": 1,
   "metadata": {
    "colab": {
     "base_uri": "https://localhost:8080/",
     "height": 17
    },
    "id": "pv7KpsnGdGtP",
    "outputId": "ced281a1-533b-41bc-8883-e5e7f3940b9a"
   },
   "outputs": [
    {
     "ename": "ModuleNotFoundError",
     "evalue": "No module named 'geopandas'",
     "output_type": "error",
     "traceback": [
      "\u001b[1;31m---------------------------------------------------------------------------\u001b[0m",
      "\u001b[1;31mModuleNotFoundError\u001b[0m                       Traceback (most recent call last)",
      "Cell \u001b[1;32mIn[1], line 5\u001b[0m\n\u001b[0;32m      3\u001b[0m \u001b[38;5;28;01mfrom\u001b[39;00m \u001b[38;5;21;01msklearn\u001b[39;00m\u001b[38;5;21;01m.\u001b[39;00m\u001b[38;5;21;01mpreprocessing\u001b[39;00m \u001b[38;5;28;01mimport\u001b[39;00m LabelEncoder\n\u001b[0;32m      4\u001b[0m \u001b[38;5;28;01mfrom\u001b[39;00m \u001b[38;5;21;01mmatplotlib\u001b[39;00m\u001b[38;5;21;01m.\u001b[39;00m\u001b[38;5;21;01mticker\u001b[39;00m \u001b[38;5;28;01mimport\u001b[39;00m PercentFormatter\n\u001b[1;32m----> 5\u001b[0m \u001b[38;5;28;01mimport\u001b[39;00m \u001b[38;5;21;01mgeopandas\u001b[39;00m\n\u001b[0;32m      6\u001b[0m \u001b[38;5;28;01mfrom\u001b[39;00m \u001b[38;5;21;01mgeodatasets\u001b[39;00m \u001b[38;5;28;01mimport\u001b[39;00m get_path\n\u001b[0;32m      7\u001b[0m \u001b[38;5;28;01mimport\u001b[39;00m \u001b[38;5;21;01mmatplotlib\u001b[39;00m\u001b[38;5;21;01m.\u001b[39;00m\u001b[38;5;21;01mpyplot\u001b[39;00m \u001b[38;5;28;01mas\u001b[39;00m \u001b[38;5;21;01mplt\u001b[39;00m\n",
      "\u001b[1;31mModuleNotFoundError\u001b[0m: No module named 'geopandas'"
     ]
    }
   ],
   "source": [
    "import pandas as pd\n",
    "import numpy as np\n",
    "from sklearn.preprocessing import LabelEncoder\n",
    "from matplotlib.ticker import PercentFormatter\n",
    "import geopandas\n",
    "from geodatasets import get_path\n",
    "import matplotlib.pyplot as plt\n",
    "import seaborn as sns\n",
    "import plotly.graph_objs as go\n",
    "import plotly.offline as py\n",
    "import re\n",
    "from matplotlib.patches import Patch\n",
    "py.init_notebook_mode()"
   ]
  },
  {
   "cell_type": "markdown",
   "metadata": {
    "id": "yoAtRvBCpKkR"
   },
   "source": [
    "# Data Overview"
   ]
  },
  {
   "cell_type": "code",
   "execution_count": 2,
   "metadata": {
    "id": "n87Tisv_f3XK"
   },
   "outputs": [],
   "source": [
    "CustomerDataset = pd.read_csv('dataset/olist_customers_dataset.csv')\n",
    "GeoLocation = pd.read_csv('dataset/olist_geolocation_dataset.csv')\n",
    "OrderItem = pd.read_csv('dataset/olist_order_items_dataset.csv')\n",
    "OrderPayment = pd.read_csv('dataset/olist_order_payments_dataset.csv')\n",
    "OrderReview = pd.read_csv('dataset/olist_order_reviews_dataset.csv')\n",
    "Orders = pd.read_csv('dataset/olist_orders_dataset.csv')\n",
    "Products = pd.read_csv('dataset/olist_products_dataset.csv')\n",
    "Sellers = pd.read_csv('dataset/olist_sellers_dataset.csv')\n",
    "ProductName = pd.read_csv('dataset/product_category_name_translation.csv')"
   ]
  },
  {
   "cell_type": "code",
   "execution_count": 55,
   "metadata": {
    "id": "cfqTYRKgoi77"
   },
   "outputs": [],
   "source": [
    "datasets = {\n",
    "    \"CustomerDataset\": CustomerDataset,\n",
    "    \"GeoLocation\": GeoLocation,\n",
    "    \"OrderItem\": OrderItem,\n",
    "    \"OrderPayment\": OrderPayment,\n",
    "    \"OrderReview\": OrderReview,\n",
    "    \"Orders\": Orders,\n",
    "    \"Products\": Products,\n",
    "    \"Sellers\": Sellers,\n",
    "    \"ProductName\": ProductName}"
   ]
  },
  {
   "cell_type": "code",
   "execution_count": 56,
   "metadata": {
    "colab": {
     "base_uri": "https://localhost:8080/"
    },
    "id": "MM1Pl67Jpg3X",
    "outputId": "5401c0de-95f0-4f2f-d061-730b52c5f362"
   },
   "outputs": [
    {
     "name": "stdout",
     "output_type": "stream",
     "text": [
      "Dataset 'CustomerDataset' has 99441 rows and 5 columns\n",
      "Dataset 'GeoLocation' has 1000163 rows and 5 columns\n",
      "Dataset 'OrderItem' has 112650 rows and 7 columns\n",
      "Dataset 'OrderPayment' has 103886 rows and 5 columns\n",
      "Dataset 'OrderReview' has 99224 rows and 7 columns\n",
      "Dataset 'Orders' has 99441 rows and 8 columns\n",
      "Dataset 'Products' has 32951 rows and 9 columns\n",
      "Dataset 'Sellers' has 3095 rows and 4 columns\n",
      "Dataset 'ProductName' has 71 rows and 2 columns\n"
     ]
    }
   ],
   "source": [
    "for name, df in datasets.items():\n",
    "  print(f\"Dataset '{name}' has {df.shape[0]} rows and {df.shape[1]} columns\")"
   ]
  },
  {
   "cell_type": "code",
   "execution_count": 57,
   "metadata": {
    "colab": {
     "base_uri": "https://localhost:8080/",
     "height": 206
    },
    "id": "sttNtUfBpxwa",
    "outputId": "fc1c2186-2148-4c39-daba-8f30825a3758"
   },
   "outputs": [
    {
     "data": {
      "text/html": [
       "<div>\n",
       "<style scoped>\n",
       "    .dataframe tbody tr th:only-of-type {\n",
       "        vertical-align: middle;\n",
       "    }\n",
       "\n",
       "    .dataframe tbody tr th {\n",
       "        vertical-align: top;\n",
       "    }\n",
       "\n",
       "    .dataframe thead th {\n",
       "        text-align: right;\n",
       "    }\n",
       "</style>\n",
       "<table border=\"1\" class=\"dataframe\">\n",
       "  <thead>\n",
       "    <tr style=\"text-align: right;\">\n",
       "      <th></th>\n",
       "      <th>customer_id</th>\n",
       "      <th>customer_unique_id</th>\n",
       "      <th>customer_zip_code_prefix</th>\n",
       "      <th>customer_city</th>\n",
       "      <th>customer_state</th>\n",
       "    </tr>\n",
       "  </thead>\n",
       "  <tbody>\n",
       "    <tr>\n",
       "      <th>0</th>\n",
       "      <td>06b8999e2fba1a1fbc88172c00ba8bc7</td>\n",
       "      <td>861eff4711a542e4b93843c6dd7febb0</td>\n",
       "      <td>14409</td>\n",
       "      <td>franca</td>\n",
       "      <td>SP</td>\n",
       "    </tr>\n",
       "    <tr>\n",
       "      <th>1</th>\n",
       "      <td>18955e83d337fd6b2def6b18a428ac77</td>\n",
       "      <td>290c77bc529b7ac935b93aa66c333dc3</td>\n",
       "      <td>9790</td>\n",
       "      <td>sao bernardo do campo</td>\n",
       "      <td>SP</td>\n",
       "    </tr>\n",
       "    <tr>\n",
       "      <th>2</th>\n",
       "      <td>4e7b3e00288586ebd08712fdd0374a03</td>\n",
       "      <td>060e732b5b29e8181a18229c7b0b2b5e</td>\n",
       "      <td>1151</td>\n",
       "      <td>sao paulo</td>\n",
       "      <td>SP</td>\n",
       "    </tr>\n",
       "    <tr>\n",
       "      <th>3</th>\n",
       "      <td>b2b6027bc5c5109e529d4dc6358b12c3</td>\n",
       "      <td>259dac757896d24d7702b9acbbff3f3c</td>\n",
       "      <td>8775</td>\n",
       "      <td>mogi das cruzes</td>\n",
       "      <td>SP</td>\n",
       "    </tr>\n",
       "    <tr>\n",
       "      <th>4</th>\n",
       "      <td>4f2d8ab171c80ec8364f7c12e35b23ad</td>\n",
       "      <td>345ecd01c38d18a9036ed96c73b8d066</td>\n",
       "      <td>13056</td>\n",
       "      <td>campinas</td>\n",
       "      <td>SP</td>\n",
       "    </tr>\n",
       "  </tbody>\n",
       "</table>\n",
       "</div>"
      ],
      "text/plain": [
       "                        customer_id                customer_unique_id  \\\n",
       "0  06b8999e2fba1a1fbc88172c00ba8bc7  861eff4711a542e4b93843c6dd7febb0   \n",
       "1  18955e83d337fd6b2def6b18a428ac77  290c77bc529b7ac935b93aa66c333dc3   \n",
       "2  4e7b3e00288586ebd08712fdd0374a03  060e732b5b29e8181a18229c7b0b2b5e   \n",
       "3  b2b6027bc5c5109e529d4dc6358b12c3  259dac757896d24d7702b9acbbff3f3c   \n",
       "4  4f2d8ab171c80ec8364f7c12e35b23ad  345ecd01c38d18a9036ed96c73b8d066   \n",
       "\n",
       "   customer_zip_code_prefix          customer_city customer_state  \n",
       "0                     14409                 franca             SP  \n",
       "1                      9790  sao bernardo do campo             SP  \n",
       "2                      1151              sao paulo             SP  \n",
       "3                      8775        mogi das cruzes             SP  \n",
       "4                     13056               campinas             SP  "
      ]
     },
     "execution_count": 57,
     "metadata": {},
     "output_type": "execute_result"
    }
   ],
   "source": [
    "CustomerDataset.head()"
   ]
  },
  {
   "cell_type": "code",
   "execution_count": 58,
   "metadata": {
    "colab": {
     "base_uri": "https://localhost:8080/",
     "height": 206
    },
    "id": "oGMuZS2NqvrE",
    "outputId": "c4b0c394-1e12-4da8-b319-3760b3267080"
   },
   "outputs": [
    {
     "data": {
      "text/html": [
       "<div>\n",
       "<style scoped>\n",
       "    .dataframe tbody tr th:only-of-type {\n",
       "        vertical-align: middle;\n",
       "    }\n",
       "\n",
       "    .dataframe tbody tr th {\n",
       "        vertical-align: top;\n",
       "    }\n",
       "\n",
       "    .dataframe thead th {\n",
       "        text-align: right;\n",
       "    }\n",
       "</style>\n",
       "<table border=\"1\" class=\"dataframe\">\n",
       "  <thead>\n",
       "    <tr style=\"text-align: right;\">\n",
       "      <th></th>\n",
       "      <th>geolocation_zip_code_prefix</th>\n",
       "      <th>geolocation_lat</th>\n",
       "      <th>geolocation_lng</th>\n",
       "      <th>geolocation_city</th>\n",
       "      <th>geolocation_state</th>\n",
       "    </tr>\n",
       "  </thead>\n",
       "  <tbody>\n",
       "    <tr>\n",
       "      <th>0</th>\n",
       "      <td>1037</td>\n",
       "      <td>-23.545621</td>\n",
       "      <td>-46.639292</td>\n",
       "      <td>sao paulo</td>\n",
       "      <td>SP</td>\n",
       "    </tr>\n",
       "    <tr>\n",
       "      <th>1</th>\n",
       "      <td>1046</td>\n",
       "      <td>-23.546081</td>\n",
       "      <td>-46.644820</td>\n",
       "      <td>sao paulo</td>\n",
       "      <td>SP</td>\n",
       "    </tr>\n",
       "    <tr>\n",
       "      <th>2</th>\n",
       "      <td>1046</td>\n",
       "      <td>-23.546129</td>\n",
       "      <td>-46.642951</td>\n",
       "      <td>sao paulo</td>\n",
       "      <td>SP</td>\n",
       "    </tr>\n",
       "    <tr>\n",
       "      <th>3</th>\n",
       "      <td>1041</td>\n",
       "      <td>-23.544392</td>\n",
       "      <td>-46.639499</td>\n",
       "      <td>sao paulo</td>\n",
       "      <td>SP</td>\n",
       "    </tr>\n",
       "    <tr>\n",
       "      <th>4</th>\n",
       "      <td>1035</td>\n",
       "      <td>-23.541578</td>\n",
       "      <td>-46.641607</td>\n",
       "      <td>sao paulo</td>\n",
       "      <td>SP</td>\n",
       "    </tr>\n",
       "  </tbody>\n",
       "</table>\n",
       "</div>"
      ],
      "text/plain": [
       "   geolocation_zip_code_prefix  geolocation_lat  geolocation_lng  \\\n",
       "0                         1037       -23.545621       -46.639292   \n",
       "1                         1046       -23.546081       -46.644820   \n",
       "2                         1046       -23.546129       -46.642951   \n",
       "3                         1041       -23.544392       -46.639499   \n",
       "4                         1035       -23.541578       -46.641607   \n",
       "\n",
       "  geolocation_city geolocation_state  \n",
       "0        sao paulo                SP  \n",
       "1        sao paulo                SP  \n",
       "2        sao paulo                SP  \n",
       "3        sao paulo                SP  \n",
       "4        sao paulo                SP  "
      ]
     },
     "execution_count": 58,
     "metadata": {},
     "output_type": "execute_result"
    }
   ],
   "source": [
    "GeoLocation.head()"
   ]
  },
  {
   "cell_type": "code",
   "execution_count": 59,
   "metadata": {
    "colab": {
     "base_uri": "https://localhost:8080/",
     "height": 226
    },
    "id": "ALgIJeDZqyAC",
    "outputId": "dc755c2c-76c9-4dd2-9cfc-24e390b2e8de"
   },
   "outputs": [
    {
     "data": {
      "text/html": [
       "<div>\n",
       "<style scoped>\n",
       "    .dataframe tbody tr th:only-of-type {\n",
       "        vertical-align: middle;\n",
       "    }\n",
       "\n",
       "    .dataframe tbody tr th {\n",
       "        vertical-align: top;\n",
       "    }\n",
       "\n",
       "    .dataframe thead th {\n",
       "        text-align: right;\n",
       "    }\n",
       "</style>\n",
       "<table border=\"1\" class=\"dataframe\">\n",
       "  <thead>\n",
       "    <tr style=\"text-align: right;\">\n",
       "      <th></th>\n",
       "      <th>order_id</th>\n",
       "      <th>order_item_id</th>\n",
       "      <th>product_id</th>\n",
       "      <th>seller_id</th>\n",
       "      <th>shipping_limit_date</th>\n",
       "      <th>price</th>\n",
       "      <th>freight_value</th>\n",
       "    </tr>\n",
       "  </thead>\n",
       "  <tbody>\n",
       "    <tr>\n",
       "      <th>0</th>\n",
       "      <td>00010242fe8c5a6d1ba2dd792cb16214</td>\n",
       "      <td>1</td>\n",
       "      <td>4244733e06e7ecb4970a6e2683c13e61</td>\n",
       "      <td>48436dade18ac8b2bce089ec2a041202</td>\n",
       "      <td>2017-09-19 09:45:35</td>\n",
       "      <td>58.90</td>\n",
       "      <td>13.29</td>\n",
       "    </tr>\n",
       "    <tr>\n",
       "      <th>1</th>\n",
       "      <td>00018f77f2f0320c557190d7a144bdd3</td>\n",
       "      <td>1</td>\n",
       "      <td>e5f2d52b802189ee658865ca93d83a8f</td>\n",
       "      <td>dd7ddc04e1b6c2c614352b383efe2d36</td>\n",
       "      <td>2017-05-03 11:05:13</td>\n",
       "      <td>239.90</td>\n",
       "      <td>19.93</td>\n",
       "    </tr>\n",
       "    <tr>\n",
       "      <th>2</th>\n",
       "      <td>000229ec398224ef6ca0657da4fc703e</td>\n",
       "      <td>1</td>\n",
       "      <td>c777355d18b72b67abbeef9df44fd0fd</td>\n",
       "      <td>5b51032eddd242adc84c38acab88f23d</td>\n",
       "      <td>2018-01-18 14:48:30</td>\n",
       "      <td>199.00</td>\n",
       "      <td>17.87</td>\n",
       "    </tr>\n",
       "    <tr>\n",
       "      <th>3</th>\n",
       "      <td>00024acbcdf0a6daa1e931b038114c75</td>\n",
       "      <td>1</td>\n",
       "      <td>7634da152a4610f1595efa32f14722fc</td>\n",
       "      <td>9d7a1d34a5052409006425275ba1c2b4</td>\n",
       "      <td>2018-08-15 10:10:18</td>\n",
       "      <td>12.99</td>\n",
       "      <td>12.79</td>\n",
       "    </tr>\n",
       "    <tr>\n",
       "      <th>4</th>\n",
       "      <td>00042b26cf59d7ce69dfabb4e55b4fd9</td>\n",
       "      <td>1</td>\n",
       "      <td>ac6c3623068f30de03045865e4e10089</td>\n",
       "      <td>df560393f3a51e74553ab94004ba5c87</td>\n",
       "      <td>2017-02-13 13:57:51</td>\n",
       "      <td>199.90</td>\n",
       "      <td>18.14</td>\n",
       "    </tr>\n",
       "  </tbody>\n",
       "</table>\n",
       "</div>"
      ],
      "text/plain": [
       "                           order_id  order_item_id  \\\n",
       "0  00010242fe8c5a6d1ba2dd792cb16214              1   \n",
       "1  00018f77f2f0320c557190d7a144bdd3              1   \n",
       "2  000229ec398224ef6ca0657da4fc703e              1   \n",
       "3  00024acbcdf0a6daa1e931b038114c75              1   \n",
       "4  00042b26cf59d7ce69dfabb4e55b4fd9              1   \n",
       "\n",
       "                         product_id                         seller_id  \\\n",
       "0  4244733e06e7ecb4970a6e2683c13e61  48436dade18ac8b2bce089ec2a041202   \n",
       "1  e5f2d52b802189ee658865ca93d83a8f  dd7ddc04e1b6c2c614352b383efe2d36   \n",
       "2  c777355d18b72b67abbeef9df44fd0fd  5b51032eddd242adc84c38acab88f23d   \n",
       "3  7634da152a4610f1595efa32f14722fc  9d7a1d34a5052409006425275ba1c2b4   \n",
       "4  ac6c3623068f30de03045865e4e10089  df560393f3a51e74553ab94004ba5c87   \n",
       "\n",
       "   shipping_limit_date   price  freight_value  \n",
       "0  2017-09-19 09:45:35   58.90          13.29  \n",
       "1  2017-05-03 11:05:13  239.90          19.93  \n",
       "2  2018-01-18 14:48:30  199.00          17.87  \n",
       "3  2018-08-15 10:10:18   12.99          12.79  \n",
       "4  2017-02-13 13:57:51  199.90          18.14  "
      ]
     },
     "execution_count": 59,
     "metadata": {},
     "output_type": "execute_result"
    }
   ],
   "source": [
    "OrderItem.head()"
   ]
  },
  {
   "cell_type": "code",
   "execution_count": 60,
   "metadata": {
    "colab": {
     "base_uri": "https://localhost:8080/",
     "height": 206
    },
    "id": "rHkMjnpyq-FQ",
    "outputId": "b67b5410-bff5-43a2-c0fc-2c0f748837f5"
   },
   "outputs": [
    {
     "data": {
      "text/html": [
       "<div>\n",
       "<style scoped>\n",
       "    .dataframe tbody tr th:only-of-type {\n",
       "        vertical-align: middle;\n",
       "    }\n",
       "\n",
       "    .dataframe tbody tr th {\n",
       "        vertical-align: top;\n",
       "    }\n",
       "\n",
       "    .dataframe thead th {\n",
       "        text-align: right;\n",
       "    }\n",
       "</style>\n",
       "<table border=\"1\" class=\"dataframe\">\n",
       "  <thead>\n",
       "    <tr style=\"text-align: right;\">\n",
       "      <th></th>\n",
       "      <th>order_id</th>\n",
       "      <th>payment_sequential</th>\n",
       "      <th>payment_type</th>\n",
       "      <th>payment_installments</th>\n",
       "      <th>payment_value</th>\n",
       "    </tr>\n",
       "  </thead>\n",
       "  <tbody>\n",
       "    <tr>\n",
       "      <th>0</th>\n",
       "      <td>b81ef226f3fe1789b1e8b2acac839d17</td>\n",
       "      <td>1</td>\n",
       "      <td>credit_card</td>\n",
       "      <td>8</td>\n",
       "      <td>99.33</td>\n",
       "    </tr>\n",
       "    <tr>\n",
       "      <th>1</th>\n",
       "      <td>a9810da82917af2d9aefd1278f1dcfa0</td>\n",
       "      <td>1</td>\n",
       "      <td>credit_card</td>\n",
       "      <td>1</td>\n",
       "      <td>24.39</td>\n",
       "    </tr>\n",
       "    <tr>\n",
       "      <th>2</th>\n",
       "      <td>25e8ea4e93396b6fa0d3dd708e76c1bd</td>\n",
       "      <td>1</td>\n",
       "      <td>credit_card</td>\n",
       "      <td>1</td>\n",
       "      <td>65.71</td>\n",
       "    </tr>\n",
       "    <tr>\n",
       "      <th>3</th>\n",
       "      <td>ba78997921bbcdc1373bb41e913ab953</td>\n",
       "      <td>1</td>\n",
       "      <td>credit_card</td>\n",
       "      <td>8</td>\n",
       "      <td>107.78</td>\n",
       "    </tr>\n",
       "    <tr>\n",
       "      <th>4</th>\n",
       "      <td>42fdf880ba16b47b59251dd489d4441a</td>\n",
       "      <td>1</td>\n",
       "      <td>credit_card</td>\n",
       "      <td>2</td>\n",
       "      <td>128.45</td>\n",
       "    </tr>\n",
       "  </tbody>\n",
       "</table>\n",
       "</div>"
      ],
      "text/plain": [
       "                           order_id  payment_sequential payment_type  \\\n",
       "0  b81ef226f3fe1789b1e8b2acac839d17                   1  credit_card   \n",
       "1  a9810da82917af2d9aefd1278f1dcfa0                   1  credit_card   \n",
       "2  25e8ea4e93396b6fa0d3dd708e76c1bd                   1  credit_card   \n",
       "3  ba78997921bbcdc1373bb41e913ab953                   1  credit_card   \n",
       "4  42fdf880ba16b47b59251dd489d4441a                   1  credit_card   \n",
       "\n",
       "   payment_installments  payment_value  \n",
       "0                     8          99.33  \n",
       "1                     1          24.39  \n",
       "2                     1          65.71  \n",
       "3                     8         107.78  \n",
       "4                     2         128.45  "
      ]
     },
     "execution_count": 60,
     "metadata": {},
     "output_type": "execute_result"
    }
   ],
   "source": [
    "OrderPayment.head()"
   ]
  },
  {
   "cell_type": "code",
   "execution_count": 61,
   "metadata": {
    "colab": {
     "base_uri": "https://localhost:8080/",
     "height": 261
    },
    "id": "evYqaeZ6rA0Q",
    "outputId": "d2dd18d8-333e-404b-a21d-ff153560300b"
   },
   "outputs": [
    {
     "data": {
      "text/html": [
       "<div>\n",
       "<style scoped>\n",
       "    .dataframe tbody tr th:only-of-type {\n",
       "        vertical-align: middle;\n",
       "    }\n",
       "\n",
       "    .dataframe tbody tr th {\n",
       "        vertical-align: top;\n",
       "    }\n",
       "\n",
       "    .dataframe thead th {\n",
       "        text-align: right;\n",
       "    }\n",
       "</style>\n",
       "<table border=\"1\" class=\"dataframe\">\n",
       "  <thead>\n",
       "    <tr style=\"text-align: right;\">\n",
       "      <th></th>\n",
       "      <th>review_id</th>\n",
       "      <th>order_id</th>\n",
       "      <th>review_score</th>\n",
       "      <th>review_comment_title</th>\n",
       "      <th>review_comment_message</th>\n",
       "      <th>review_creation_date</th>\n",
       "      <th>review_answer_timestamp</th>\n",
       "    </tr>\n",
       "  </thead>\n",
       "  <tbody>\n",
       "    <tr>\n",
       "      <th>0</th>\n",
       "      <td>7bc2406110b926393aa56f80a40eba40</td>\n",
       "      <td>73fc7af87114b39712e6da79b0a377eb</td>\n",
       "      <td>4</td>\n",
       "      <td>NaN</td>\n",
       "      <td>NaN</td>\n",
       "      <td>2018-01-18 00:00:00</td>\n",
       "      <td>2018-01-18 21:46:59</td>\n",
       "    </tr>\n",
       "    <tr>\n",
       "      <th>1</th>\n",
       "      <td>80e641a11e56f04c1ad469d5645fdfde</td>\n",
       "      <td>a548910a1c6147796b98fdf73dbeba33</td>\n",
       "      <td>5</td>\n",
       "      <td>NaN</td>\n",
       "      <td>NaN</td>\n",
       "      <td>2018-03-10 00:00:00</td>\n",
       "      <td>2018-03-11 03:05:13</td>\n",
       "    </tr>\n",
       "    <tr>\n",
       "      <th>2</th>\n",
       "      <td>228ce5500dc1d8e020d8d1322874b6f0</td>\n",
       "      <td>f9e4b658b201a9f2ecdecbb34bed034b</td>\n",
       "      <td>5</td>\n",
       "      <td>NaN</td>\n",
       "      <td>NaN</td>\n",
       "      <td>2018-02-17 00:00:00</td>\n",
       "      <td>2018-02-18 14:36:24</td>\n",
       "    </tr>\n",
       "    <tr>\n",
       "      <th>3</th>\n",
       "      <td>e64fb393e7b32834bb789ff8bb30750e</td>\n",
       "      <td>658677c97b385a9be170737859d3511b</td>\n",
       "      <td>5</td>\n",
       "      <td>NaN</td>\n",
       "      <td>Recebi bem antes do prazo estipulado.</td>\n",
       "      <td>2017-04-21 00:00:00</td>\n",
       "      <td>2017-04-21 22:02:06</td>\n",
       "    </tr>\n",
       "    <tr>\n",
       "      <th>4</th>\n",
       "      <td>f7c4243c7fe1938f181bec41a392bdeb</td>\n",
       "      <td>8e6bfb81e283fa7e4f11123a3fb894f1</td>\n",
       "      <td>5</td>\n",
       "      <td>NaN</td>\n",
       "      <td>Parabéns lojas lannister adorei comprar pela I...</td>\n",
       "      <td>2018-03-01 00:00:00</td>\n",
       "      <td>2018-03-02 10:26:53</td>\n",
       "    </tr>\n",
       "  </tbody>\n",
       "</table>\n",
       "</div>"
      ],
      "text/plain": [
       "                          review_id                          order_id  \\\n",
       "0  7bc2406110b926393aa56f80a40eba40  73fc7af87114b39712e6da79b0a377eb   \n",
       "1  80e641a11e56f04c1ad469d5645fdfde  a548910a1c6147796b98fdf73dbeba33   \n",
       "2  228ce5500dc1d8e020d8d1322874b6f0  f9e4b658b201a9f2ecdecbb34bed034b   \n",
       "3  e64fb393e7b32834bb789ff8bb30750e  658677c97b385a9be170737859d3511b   \n",
       "4  f7c4243c7fe1938f181bec41a392bdeb  8e6bfb81e283fa7e4f11123a3fb894f1   \n",
       "\n",
       "   review_score review_comment_title  \\\n",
       "0             4                  NaN   \n",
       "1             5                  NaN   \n",
       "2             5                  NaN   \n",
       "3             5                  NaN   \n",
       "4             5                  NaN   \n",
       "\n",
       "                              review_comment_message review_creation_date  \\\n",
       "0                                                NaN  2018-01-18 00:00:00   \n",
       "1                                                NaN  2018-03-10 00:00:00   \n",
       "2                                                NaN  2018-02-17 00:00:00   \n",
       "3              Recebi bem antes do prazo estipulado.  2017-04-21 00:00:00   \n",
       "4  Parabéns lojas lannister adorei comprar pela I...  2018-03-01 00:00:00   \n",
       "\n",
       "  review_answer_timestamp  \n",
       "0     2018-01-18 21:46:59  \n",
       "1     2018-03-11 03:05:13  \n",
       "2     2018-02-18 14:36:24  \n",
       "3     2017-04-21 22:02:06  \n",
       "4     2018-03-02 10:26:53  "
      ]
     },
     "execution_count": 61,
     "metadata": {},
     "output_type": "execute_result"
    }
   ],
   "source": [
    "OrderReview.head()"
   ]
  },
  {
   "cell_type": "code",
   "execution_count": 62,
   "metadata": {
    "colab": {
     "base_uri": "https://localhost:8080/",
     "height": 226
    },
    "id": "4zWdSHZirC6k",
    "outputId": "777e8010-addb-47d0-a6e4-21f90bc1d295"
   },
   "outputs": [
    {
     "data": {
      "text/html": [
       "<div>\n",
       "<style scoped>\n",
       "    .dataframe tbody tr th:only-of-type {\n",
       "        vertical-align: middle;\n",
       "    }\n",
       "\n",
       "    .dataframe tbody tr th {\n",
       "        vertical-align: top;\n",
       "    }\n",
       "\n",
       "    .dataframe thead th {\n",
       "        text-align: right;\n",
       "    }\n",
       "</style>\n",
       "<table border=\"1\" class=\"dataframe\">\n",
       "  <thead>\n",
       "    <tr style=\"text-align: right;\">\n",
       "      <th></th>\n",
       "      <th>order_id</th>\n",
       "      <th>customer_id</th>\n",
       "      <th>order_status</th>\n",
       "      <th>order_purchase_timestamp</th>\n",
       "      <th>order_approved_at</th>\n",
       "      <th>order_delivered_carrier_date</th>\n",
       "      <th>order_delivered_customer_date</th>\n",
       "      <th>order_estimated_delivery_date</th>\n",
       "    </tr>\n",
       "  </thead>\n",
       "  <tbody>\n",
       "    <tr>\n",
       "      <th>0</th>\n",
       "      <td>e481f51cbdc54678b7cc49136f2d6af7</td>\n",
       "      <td>9ef432eb6251297304e76186b10a928d</td>\n",
       "      <td>delivered</td>\n",
       "      <td>2017-10-02 10:56:33</td>\n",
       "      <td>2017-10-02 11:07:15</td>\n",
       "      <td>2017-10-04 19:55:00</td>\n",
       "      <td>2017-10-10 21:25:13</td>\n",
       "      <td>2017-10-18 00:00:00</td>\n",
       "    </tr>\n",
       "    <tr>\n",
       "      <th>1</th>\n",
       "      <td>53cdb2fc8bc7dce0b6741e2150273451</td>\n",
       "      <td>b0830fb4747a6c6d20dea0b8c802d7ef</td>\n",
       "      <td>delivered</td>\n",
       "      <td>2018-07-24 20:41:37</td>\n",
       "      <td>2018-07-26 03:24:27</td>\n",
       "      <td>2018-07-26 14:31:00</td>\n",
       "      <td>2018-08-07 15:27:45</td>\n",
       "      <td>2018-08-13 00:00:00</td>\n",
       "    </tr>\n",
       "    <tr>\n",
       "      <th>2</th>\n",
       "      <td>47770eb9100c2d0c44946d9cf07ec65d</td>\n",
       "      <td>41ce2a54c0b03bf3443c3d931a367089</td>\n",
       "      <td>delivered</td>\n",
       "      <td>2018-08-08 08:38:49</td>\n",
       "      <td>2018-08-08 08:55:23</td>\n",
       "      <td>2018-08-08 13:50:00</td>\n",
       "      <td>2018-08-17 18:06:29</td>\n",
       "      <td>2018-09-04 00:00:00</td>\n",
       "    </tr>\n",
       "    <tr>\n",
       "      <th>3</th>\n",
       "      <td>949d5b44dbf5de918fe9c16f97b45f8a</td>\n",
       "      <td>f88197465ea7920adcdbec7375364d82</td>\n",
       "      <td>delivered</td>\n",
       "      <td>2017-11-18 19:28:06</td>\n",
       "      <td>2017-11-18 19:45:59</td>\n",
       "      <td>2017-11-22 13:39:59</td>\n",
       "      <td>2017-12-02 00:28:42</td>\n",
       "      <td>2017-12-15 00:00:00</td>\n",
       "    </tr>\n",
       "    <tr>\n",
       "      <th>4</th>\n",
       "      <td>ad21c59c0840e6cb83a9ceb5573f8159</td>\n",
       "      <td>8ab97904e6daea8866dbdbc4fb7aad2c</td>\n",
       "      <td>delivered</td>\n",
       "      <td>2018-02-13 21:18:39</td>\n",
       "      <td>2018-02-13 22:20:29</td>\n",
       "      <td>2018-02-14 19:46:34</td>\n",
       "      <td>2018-02-16 18:17:02</td>\n",
       "      <td>2018-02-26 00:00:00</td>\n",
       "    </tr>\n",
       "  </tbody>\n",
       "</table>\n",
       "</div>"
      ],
      "text/plain": [
       "                           order_id                       customer_id  \\\n",
       "0  e481f51cbdc54678b7cc49136f2d6af7  9ef432eb6251297304e76186b10a928d   \n",
       "1  53cdb2fc8bc7dce0b6741e2150273451  b0830fb4747a6c6d20dea0b8c802d7ef   \n",
       "2  47770eb9100c2d0c44946d9cf07ec65d  41ce2a54c0b03bf3443c3d931a367089   \n",
       "3  949d5b44dbf5de918fe9c16f97b45f8a  f88197465ea7920adcdbec7375364d82   \n",
       "4  ad21c59c0840e6cb83a9ceb5573f8159  8ab97904e6daea8866dbdbc4fb7aad2c   \n",
       "\n",
       "  order_status order_purchase_timestamp    order_approved_at  \\\n",
       "0    delivered      2017-10-02 10:56:33  2017-10-02 11:07:15   \n",
       "1    delivered      2018-07-24 20:41:37  2018-07-26 03:24:27   \n",
       "2    delivered      2018-08-08 08:38:49  2018-08-08 08:55:23   \n",
       "3    delivered      2017-11-18 19:28:06  2017-11-18 19:45:59   \n",
       "4    delivered      2018-02-13 21:18:39  2018-02-13 22:20:29   \n",
       "\n",
       "  order_delivered_carrier_date order_delivered_customer_date  \\\n",
       "0          2017-10-04 19:55:00           2017-10-10 21:25:13   \n",
       "1          2018-07-26 14:31:00           2018-08-07 15:27:45   \n",
       "2          2018-08-08 13:50:00           2018-08-17 18:06:29   \n",
       "3          2017-11-22 13:39:59           2017-12-02 00:28:42   \n",
       "4          2018-02-14 19:46:34           2018-02-16 18:17:02   \n",
       "\n",
       "  order_estimated_delivery_date  \n",
       "0           2017-10-18 00:00:00  \n",
       "1           2018-08-13 00:00:00  \n",
       "2           2018-09-04 00:00:00  \n",
       "3           2017-12-15 00:00:00  \n",
       "4           2018-02-26 00:00:00  "
      ]
     },
     "execution_count": 62,
     "metadata": {},
     "output_type": "execute_result"
    }
   ],
   "source": [
    "Orders.head()"
   ]
  },
  {
   "cell_type": "code",
   "execution_count": 63,
   "metadata": {
    "colab": {
     "base_uri": "https://localhost:8080/",
     "height": 226
    },
    "id": "sap3BfNUrFFp",
    "outputId": "6359dde4-4049-4618-c90f-20a908cf54b4"
   },
   "outputs": [
    {
     "data": {
      "text/html": [
       "<div>\n",
       "<style scoped>\n",
       "    .dataframe tbody tr th:only-of-type {\n",
       "        vertical-align: middle;\n",
       "    }\n",
       "\n",
       "    .dataframe tbody tr th {\n",
       "        vertical-align: top;\n",
       "    }\n",
       "\n",
       "    .dataframe thead th {\n",
       "        text-align: right;\n",
       "    }\n",
       "</style>\n",
       "<table border=\"1\" class=\"dataframe\">\n",
       "  <thead>\n",
       "    <tr style=\"text-align: right;\">\n",
       "      <th></th>\n",
       "      <th>product_id</th>\n",
       "      <th>product_category_name</th>\n",
       "      <th>product_name_lenght</th>\n",
       "      <th>product_description_lenght</th>\n",
       "      <th>product_photos_qty</th>\n",
       "      <th>product_weight_g</th>\n",
       "      <th>product_length_cm</th>\n",
       "      <th>product_height_cm</th>\n",
       "      <th>product_width_cm</th>\n",
       "    </tr>\n",
       "  </thead>\n",
       "  <tbody>\n",
       "    <tr>\n",
       "      <th>0</th>\n",
       "      <td>1e9e8ef04dbcff4541ed26657ea517e5</td>\n",
       "      <td>perfumaria</td>\n",
       "      <td>40.0</td>\n",
       "      <td>287.0</td>\n",
       "      <td>1.0</td>\n",
       "      <td>225.0</td>\n",
       "      <td>16.0</td>\n",
       "      <td>10.0</td>\n",
       "      <td>14.0</td>\n",
       "    </tr>\n",
       "    <tr>\n",
       "      <th>1</th>\n",
       "      <td>3aa071139cb16b67ca9e5dea641aaa2f</td>\n",
       "      <td>artes</td>\n",
       "      <td>44.0</td>\n",
       "      <td>276.0</td>\n",
       "      <td>1.0</td>\n",
       "      <td>1000.0</td>\n",
       "      <td>30.0</td>\n",
       "      <td>18.0</td>\n",
       "      <td>20.0</td>\n",
       "    </tr>\n",
       "    <tr>\n",
       "      <th>2</th>\n",
       "      <td>96bd76ec8810374ed1b65e291975717f</td>\n",
       "      <td>esporte_lazer</td>\n",
       "      <td>46.0</td>\n",
       "      <td>250.0</td>\n",
       "      <td>1.0</td>\n",
       "      <td>154.0</td>\n",
       "      <td>18.0</td>\n",
       "      <td>9.0</td>\n",
       "      <td>15.0</td>\n",
       "    </tr>\n",
       "    <tr>\n",
       "      <th>3</th>\n",
       "      <td>cef67bcfe19066a932b7673e239eb23d</td>\n",
       "      <td>bebes</td>\n",
       "      <td>27.0</td>\n",
       "      <td>261.0</td>\n",
       "      <td>1.0</td>\n",
       "      <td>371.0</td>\n",
       "      <td>26.0</td>\n",
       "      <td>4.0</td>\n",
       "      <td>26.0</td>\n",
       "    </tr>\n",
       "    <tr>\n",
       "      <th>4</th>\n",
       "      <td>9dc1a7de274444849c219cff195d0b71</td>\n",
       "      <td>utilidades_domesticas</td>\n",
       "      <td>37.0</td>\n",
       "      <td>402.0</td>\n",
       "      <td>4.0</td>\n",
       "      <td>625.0</td>\n",
       "      <td>20.0</td>\n",
       "      <td>17.0</td>\n",
       "      <td>13.0</td>\n",
       "    </tr>\n",
       "  </tbody>\n",
       "</table>\n",
       "</div>"
      ],
      "text/plain": [
       "                         product_id  product_category_name  \\\n",
       "0  1e9e8ef04dbcff4541ed26657ea517e5             perfumaria   \n",
       "1  3aa071139cb16b67ca9e5dea641aaa2f                  artes   \n",
       "2  96bd76ec8810374ed1b65e291975717f          esporte_lazer   \n",
       "3  cef67bcfe19066a932b7673e239eb23d                  bebes   \n",
       "4  9dc1a7de274444849c219cff195d0b71  utilidades_domesticas   \n",
       "\n",
       "   product_name_lenght  product_description_lenght  product_photos_qty  \\\n",
       "0                 40.0                       287.0                 1.0   \n",
       "1                 44.0                       276.0                 1.0   \n",
       "2                 46.0                       250.0                 1.0   \n",
       "3                 27.0                       261.0                 1.0   \n",
       "4                 37.0                       402.0                 4.0   \n",
       "\n",
       "   product_weight_g  product_length_cm  product_height_cm  product_width_cm  \n",
       "0             225.0               16.0               10.0              14.0  \n",
       "1            1000.0               30.0               18.0              20.0  \n",
       "2             154.0               18.0                9.0              15.0  \n",
       "3             371.0               26.0                4.0              26.0  \n",
       "4             625.0               20.0               17.0              13.0  "
      ]
     },
     "execution_count": 63,
     "metadata": {},
     "output_type": "execute_result"
    }
   ],
   "source": [
    "Products.head()"
   ]
  },
  {
   "cell_type": "code",
   "execution_count": 64,
   "metadata": {
    "colab": {
     "base_uri": "https://localhost:8080/",
     "height": 206
    },
    "id": "P1ucH6sirHNS",
    "outputId": "e26ad97f-0205-4dc4-aeea-fe8583f4bf95"
   },
   "outputs": [
    {
     "data": {
      "text/html": [
       "<div>\n",
       "<style scoped>\n",
       "    .dataframe tbody tr th:only-of-type {\n",
       "        vertical-align: middle;\n",
       "    }\n",
       "\n",
       "    .dataframe tbody tr th {\n",
       "        vertical-align: top;\n",
       "    }\n",
       "\n",
       "    .dataframe thead th {\n",
       "        text-align: right;\n",
       "    }\n",
       "</style>\n",
       "<table border=\"1\" class=\"dataframe\">\n",
       "  <thead>\n",
       "    <tr style=\"text-align: right;\">\n",
       "      <th></th>\n",
       "      <th>seller_id</th>\n",
       "      <th>seller_zip_code_prefix</th>\n",
       "      <th>seller_city</th>\n",
       "      <th>seller_state</th>\n",
       "    </tr>\n",
       "  </thead>\n",
       "  <tbody>\n",
       "    <tr>\n",
       "      <th>0</th>\n",
       "      <td>3442f8959a84dea7ee197c632cb2df15</td>\n",
       "      <td>13023</td>\n",
       "      <td>campinas</td>\n",
       "      <td>SP</td>\n",
       "    </tr>\n",
       "    <tr>\n",
       "      <th>1</th>\n",
       "      <td>d1b65fc7debc3361ea86b5f14c68d2e2</td>\n",
       "      <td>13844</td>\n",
       "      <td>mogi guacu</td>\n",
       "      <td>SP</td>\n",
       "    </tr>\n",
       "    <tr>\n",
       "      <th>2</th>\n",
       "      <td>ce3ad9de960102d0677a81f5d0bb7b2d</td>\n",
       "      <td>20031</td>\n",
       "      <td>rio de janeiro</td>\n",
       "      <td>RJ</td>\n",
       "    </tr>\n",
       "    <tr>\n",
       "      <th>3</th>\n",
       "      <td>c0f3eea2e14555b6faeea3dd58c1b1c3</td>\n",
       "      <td>4195</td>\n",
       "      <td>sao paulo</td>\n",
       "      <td>SP</td>\n",
       "    </tr>\n",
       "    <tr>\n",
       "      <th>4</th>\n",
       "      <td>51a04a8a6bdcb23deccc82b0b80742cf</td>\n",
       "      <td>12914</td>\n",
       "      <td>braganca paulista</td>\n",
       "      <td>SP</td>\n",
       "    </tr>\n",
       "  </tbody>\n",
       "</table>\n",
       "</div>"
      ],
      "text/plain": [
       "                          seller_id  seller_zip_code_prefix  \\\n",
       "0  3442f8959a84dea7ee197c632cb2df15                   13023   \n",
       "1  d1b65fc7debc3361ea86b5f14c68d2e2                   13844   \n",
       "2  ce3ad9de960102d0677a81f5d0bb7b2d                   20031   \n",
       "3  c0f3eea2e14555b6faeea3dd58c1b1c3                    4195   \n",
       "4  51a04a8a6bdcb23deccc82b0b80742cf                   12914   \n",
       "\n",
       "         seller_city seller_state  \n",
       "0           campinas           SP  \n",
       "1         mogi guacu           SP  \n",
       "2     rio de janeiro           RJ  \n",
       "3          sao paulo           SP  \n",
       "4  braganca paulista           SP  "
      ]
     },
     "execution_count": 64,
     "metadata": {},
     "output_type": "execute_result"
    }
   ],
   "source": [
    "Sellers.head()"
   ]
  },
  {
   "cell_type": "code",
   "execution_count": 65,
   "metadata": {
    "colab": {
     "base_uri": "https://localhost:8080/",
     "height": 206
    },
    "id": "xvLxY_UvrJOB",
    "outputId": "eb4f0cdc-bc32-4839-db55-4da5ab775f02"
   },
   "outputs": [
    {
     "data": {
      "text/html": [
       "<div>\n",
       "<style scoped>\n",
       "    .dataframe tbody tr th:only-of-type {\n",
       "        vertical-align: middle;\n",
       "    }\n",
       "\n",
       "    .dataframe tbody tr th {\n",
       "        vertical-align: top;\n",
       "    }\n",
       "\n",
       "    .dataframe thead th {\n",
       "        text-align: right;\n",
       "    }\n",
       "</style>\n",
       "<table border=\"1\" class=\"dataframe\">\n",
       "  <thead>\n",
       "    <tr style=\"text-align: right;\">\n",
       "      <th></th>\n",
       "      <th>product_category_name</th>\n",
       "      <th>product_category_name_english</th>\n",
       "    </tr>\n",
       "  </thead>\n",
       "  <tbody>\n",
       "    <tr>\n",
       "      <th>0</th>\n",
       "      <td>beleza_saude</td>\n",
       "      <td>health_beauty</td>\n",
       "    </tr>\n",
       "    <tr>\n",
       "      <th>1</th>\n",
       "      <td>informatica_acessorios</td>\n",
       "      <td>computers_accessories</td>\n",
       "    </tr>\n",
       "    <tr>\n",
       "      <th>2</th>\n",
       "      <td>automotivo</td>\n",
       "      <td>auto</td>\n",
       "    </tr>\n",
       "    <tr>\n",
       "      <th>3</th>\n",
       "      <td>cama_mesa_banho</td>\n",
       "      <td>bed_bath_table</td>\n",
       "    </tr>\n",
       "    <tr>\n",
       "      <th>4</th>\n",
       "      <td>moveis_decoracao</td>\n",
       "      <td>furniture_decor</td>\n",
       "    </tr>\n",
       "  </tbody>\n",
       "</table>\n",
       "</div>"
      ],
      "text/plain": [
       "    product_category_name product_category_name_english\n",
       "0            beleza_saude                 health_beauty\n",
       "1  informatica_acessorios         computers_accessories\n",
       "2              automotivo                          auto\n",
       "3         cama_mesa_banho                bed_bath_table\n",
       "4        moveis_decoracao               furniture_decor"
      ]
     },
     "execution_count": 65,
     "metadata": {},
     "output_type": "execute_result"
    }
   ],
   "source": [
    "ProductName.head()"
   ]
  },
  {
   "cell_type": "code",
   "execution_count": 66,
   "metadata": {
    "id": "eGMauAGcla_7"
   },
   "outputs": [],
   "source": [
    "def NullTester(df_name, df):\n",
    "    x = df.isnull().sum().sum()\n",
    "    print(f\"For Dataset '{df_name}' there are {x} Null values\")"
   ]
  },
  {
   "cell_type": "code",
   "execution_count": 67,
   "metadata": {
    "id": "Wmx-hnq0n6Hg"
   },
   "outputs": [],
   "source": [
    "def DupeTester(df_name, df):\n",
    "    x = df.duplicated().sum()\n",
    "    print(f\"For Dataset '{df_name}' there are {x} Duplicated rows\")"
   ]
  },
  {
   "cell_type": "code",
   "execution_count": 68,
   "metadata": {
    "colab": {
     "base_uri": "https://localhost:8080/"
    },
    "id": "w1BTxdDanEql",
    "outputId": "cc81a94f-b668-4e44-f1cf-a7e046037ae7"
   },
   "outputs": [
    {
     "name": "stdout",
     "output_type": "stream",
     "text": [
      "For Dataset 'CustomerDataset' there are 0 Null values\n",
      "For Dataset 'GeoLocation' there are 0 Null values\n",
      "For Dataset 'OrderItem' there are 0 Null values\n",
      "For Dataset 'OrderPayment' there are 0 Null values\n",
      "For Dataset 'OrderReview' there are 145903 Null values\n",
      "For Dataset 'Orders' there are 4908 Null values\n",
      "For Dataset 'Products' there are 2448 Null values\n",
      "For Dataset 'Sellers' there are 0 Null values\n",
      "For Dataset 'ProductName' there are 0 Null values\n"
     ]
    }
   ],
   "source": [
    "for name, df in datasets.items():\n",
    "  NullTester(name, df)"
   ]
  },
  {
   "cell_type": "code",
   "execution_count": 69,
   "metadata": {
    "colab": {
     "base_uri": "https://localhost:8080/"
    },
    "id": "xuTe7V0mo0GG",
    "outputId": "812b0239-cdf7-4908-c341-978ed0527d69"
   },
   "outputs": [
    {
     "name": "stdout",
     "output_type": "stream",
     "text": [
      "For Dataset 'CustomerDataset' there are 0 Duplicated rows\n",
      "For Dataset 'GeoLocation' there are 261831 Duplicated rows\n",
      "For Dataset 'OrderItem' there are 0 Duplicated rows\n",
      "For Dataset 'OrderPayment' there are 0 Duplicated rows\n",
      "For Dataset 'OrderReview' there are 0 Duplicated rows\n",
      "For Dataset 'Orders' there are 0 Duplicated rows\n",
      "For Dataset 'Products' there are 0 Duplicated rows\n",
      "For Dataset 'Sellers' there are 0 Duplicated rows\n",
      "For Dataset 'ProductName' there are 0 Duplicated rows\n"
     ]
    }
   ],
   "source": [
    "for name, df in datasets.items():\n",
    "  DupeTester(name, df)"
   ]
  },
  {
   "cell_type": "code",
   "execution_count": 70,
   "metadata": {
    "colab": {
     "base_uri": "https://localhost:8080/",
     "height": 303
    },
    "id": "KXJTZtBcnGqY",
    "outputId": "5ae699fe-e296-4627-aee6-111d06e9cb52"
   },
   "outputs": [
    {
     "data": {
      "text/plain": [
       "review_id                      0\n",
       "order_id                       0\n",
       "review_score                   0\n",
       "review_comment_title       87656\n",
       "review_comment_message     58247\n",
       "review_creation_date           0\n",
       "review_answer_timestamp        0\n",
       "dtype: int64"
      ]
     },
     "execution_count": 70,
     "metadata": {},
     "output_type": "execute_result"
    }
   ],
   "source": [
    "OrderReview.isnull().sum()"
   ]
  },
  {
   "cell_type": "code",
   "execution_count": 71,
   "metadata": {
    "colab": {
     "base_uri": "https://localhost:8080/",
     "height": 335
    },
    "id": "tkWMn8beoIun",
    "outputId": "28f5b017-4426-4ddf-cbcd-596a33e3cb57"
   },
   "outputs": [
    {
     "data": {
      "text/plain": [
       "order_id                            0\n",
       "customer_id                         0\n",
       "order_status                        0\n",
       "order_purchase_timestamp            0\n",
       "order_approved_at                 160\n",
       "order_delivered_carrier_date     1783\n",
       "order_delivered_customer_date    2965\n",
       "order_estimated_delivery_date       0\n",
       "dtype: int64"
      ]
     },
     "execution_count": 71,
     "metadata": {},
     "output_type": "execute_result"
    }
   ],
   "source": [
    "Orders.isnull().sum()"
   ]
  },
  {
   "cell_type": "code",
   "execution_count": 72,
   "metadata": {
    "colab": {
     "base_uri": "https://localhost:8080/",
     "height": 366
    },
    "id": "EdLkbl7PoYe9",
    "outputId": "1cb6c8f2-6671-4c37-f82f-b5ddd3e0b538"
   },
   "outputs": [
    {
     "data": {
      "text/plain": [
       "product_id                      0\n",
       "product_category_name         610\n",
       "product_name_lenght           610\n",
       "product_description_lenght    610\n",
       "product_photos_qty            610\n",
       "product_weight_g                2\n",
       "product_length_cm               2\n",
       "product_height_cm               2\n",
       "product_width_cm                2\n",
       "dtype: int64"
      ]
     },
     "execution_count": 72,
     "metadata": {},
     "output_type": "execute_result"
    }
   ],
   "source": [
    "Products.isnull().sum()"
   ]
  },
  {
   "cell_type": "markdown",
   "metadata": {
    "id": "x9JT56OAuQ68"
   },
   "source": [
    "# Data Preprocessing"
   ]
  },
  {
   "cell_type": "markdown",
   "metadata": {
    "id": "91VZ6HwTzse0"
   },
   "source": [
    "## Order Review"
   ]
  },
  {
   "cell_type": "code",
   "execution_count": 73,
   "metadata": {
    "colab": {
     "base_uri": "https://localhost:8080/",
     "height": 241
    },
    "id": "5gxV8dwptxVm",
    "outputId": "334596e2-9ea2-464d-e221-0acce9ba7dfa"
   },
   "outputs": [
    {
     "data": {
      "text/plain": [
       "review_id       0\n",
       "order_id        0\n",
       "review_score    0\n",
       "dtype: int64"
      ]
     },
     "execution_count": 73,
     "metadata": {},
     "output_type": "execute_result"
    }
   ],
   "source": [
    "OrderReview.drop(columns=['review_comment_title', 'review_comment_message', 'review_creation_date', 'review_answer_timestamp'], inplace=True)\n",
    "OrderReview.isnull().sum()"
   ]
  },
  {
   "cell_type": "markdown",
   "metadata": {
    "id": "n5ba2bNguUtz"
   },
   "source": [
    "The data from the Review title and the comment message would not be necceassry as theres lots of Null values and its not very relavent to the findings"
   ]
  },
  {
   "cell_type": "code",
   "execution_count": 74,
   "metadata": {
    "colab": {
     "base_uri": "https://localhost:8080/",
     "height": 178
    },
    "id": "ZkJbwrNAqUbs",
    "outputId": "af411fe0-2500-452b-8a41-5c082378c040"
   },
   "outputs": [
    {
     "data": {
      "text/plain": [
       "order_id\n",
       "False    98673\n",
       "True       551\n",
       "Name: count, dtype: int64"
      ]
     },
     "execution_count": 74,
     "metadata": {},
     "output_type": "execute_result"
    }
   ],
   "source": [
    "OrderReview['order_id'].duplicated().value_counts()"
   ]
  },
  {
   "cell_type": "markdown",
   "metadata": {
    "id": "HRhbY2I6rRRy"
   },
   "source": [
    "This shows that there are multiple reviews for the same order. Only the most recent one will be kept."
   ]
  },
  {
   "cell_type": "code",
   "execution_count": 75,
   "metadata": {
    "colab": {
     "base_uri": "https://localhost:8080/",
     "height": 147
    },
    "id": "Y1n845myrbmP",
    "outputId": "bce27b9d-6992-4b06-8150-25aa5bf0fecb"
   },
   "outputs": [
    {
     "data": {
      "text/plain": [
       "order_id\n",
       "False    98673\n",
       "Name: count, dtype: int64"
      ]
     },
     "execution_count": 75,
     "metadata": {},
     "output_type": "execute_result"
    }
   ],
   "source": [
    "OrderReview.drop_duplicates(subset='order_id', keep='last', inplace=True)\n",
    "OrderReview['order_id'].duplicated().value_counts()"
   ]
  },
  {
   "cell_type": "markdown",
   "metadata": {
    "id": "lvv01osH2yjd"
   },
   "source": [
    "## Orders"
   ]
  },
  {
   "cell_type": "code",
   "execution_count": 76,
   "metadata": {
    "id": "QYLHvmWBofFr"
   },
   "outputs": [],
   "source": [
    "Orders.drop(columns=['order_approved_at','order_delivered_carrier_date','order_delivered_customer_date'], inplace = True)"
   ]
  },
  {
   "cell_type": "markdown",
   "metadata": {
    "id": "0UMO_IANtwiI"
   },
   "source": [
    "These columns were removed as a majority of the columns were Null values and would not provide valueable insights."
   ]
  },
  {
   "cell_type": "code",
   "execution_count": 77,
   "metadata": {},
   "outputs": [
    {
     "data": {
      "text/plain": [
       "order_status\n",
       "delivered        96478\n",
       "not_delivered     2963\n",
       "Name: count, dtype: int64"
      ]
     },
     "execution_count": 77,
     "metadata": {},
     "output_type": "execute_result"
    }
   ],
   "source": [
    "Orders.loc[Orders['order_status'] != 'delivered', 'order_status'] = 'not_delivered'\n",
    "Orders['order_status'].value_counts()\n"
   ]
  },
  {
   "cell_type": "markdown",
   "metadata": {
    "id": "o4eTWiEfxtKc"
   },
   "source": [
    "## Products"
   ]
  },
  {
   "cell_type": "code",
   "execution_count": 78,
   "metadata": {
    "id": "MaDJXWvhqS9p"
   },
   "outputs": [],
   "source": [
    "Products.fillna({'product_category_name': 'None'}, inplace=True)\n",
    "Products.fillna(0, inplace=True)"
   ]
  },
  {
   "cell_type": "markdown",
   "metadata": {
    "id": "KgydmKmhN1Gd"
   },
   "source": [
    "We replace every Null value in the \"product_category_name\" with a \"None\" to clearly group together all the products with no category"
   ]
  },
  {
   "cell_type": "code",
   "execution_count": 79,
   "metadata": {
    "colab": {
     "base_uri": "https://localhost:8080/",
     "height": 226
    },
    "id": "I0EQ_fTOz7Gh",
    "outputId": "e502afc7-9d31-4044-c46e-c0fcfd3a0935"
   },
   "outputs": [
    {
     "data": {
      "text/html": [
       "<div>\n",
       "<style scoped>\n",
       "    .dataframe tbody tr th:only-of-type {\n",
       "        vertical-align: middle;\n",
       "    }\n",
       "\n",
       "    .dataframe tbody tr th {\n",
       "        vertical-align: top;\n",
       "    }\n",
       "\n",
       "    .dataframe thead th {\n",
       "        text-align: right;\n",
       "    }\n",
       "</style>\n",
       "<table border=\"1\" class=\"dataframe\">\n",
       "  <thead>\n",
       "    <tr style=\"text-align: right;\">\n",
       "      <th></th>\n",
       "      <th>product_id</th>\n",
       "      <th>product_name_lenght</th>\n",
       "      <th>product_description_lenght</th>\n",
       "      <th>product_photos_qty</th>\n",
       "      <th>product_weight_g</th>\n",
       "      <th>product_length_cm</th>\n",
       "      <th>product_height_cm</th>\n",
       "      <th>product_width_cm</th>\n",
       "      <th>product_category_name_english</th>\n",
       "    </tr>\n",
       "  </thead>\n",
       "  <tbody>\n",
       "    <tr>\n",
       "      <th>0</th>\n",
       "      <td>1e9e8ef04dbcff4541ed26657ea517e5</td>\n",
       "      <td>40.0</td>\n",
       "      <td>287.0</td>\n",
       "      <td>1.0</td>\n",
       "      <td>225.0</td>\n",
       "      <td>16.0</td>\n",
       "      <td>10.0</td>\n",
       "      <td>14.0</td>\n",
       "      <td>perfumery</td>\n",
       "    </tr>\n",
       "    <tr>\n",
       "      <th>1</th>\n",
       "      <td>3aa071139cb16b67ca9e5dea641aaa2f</td>\n",
       "      <td>44.0</td>\n",
       "      <td>276.0</td>\n",
       "      <td>1.0</td>\n",
       "      <td>1000.0</td>\n",
       "      <td>30.0</td>\n",
       "      <td>18.0</td>\n",
       "      <td>20.0</td>\n",
       "      <td>art</td>\n",
       "    </tr>\n",
       "    <tr>\n",
       "      <th>2</th>\n",
       "      <td>96bd76ec8810374ed1b65e291975717f</td>\n",
       "      <td>46.0</td>\n",
       "      <td>250.0</td>\n",
       "      <td>1.0</td>\n",
       "      <td>154.0</td>\n",
       "      <td>18.0</td>\n",
       "      <td>9.0</td>\n",
       "      <td>15.0</td>\n",
       "      <td>sports_leisure</td>\n",
       "    </tr>\n",
       "    <tr>\n",
       "      <th>3</th>\n",
       "      <td>cef67bcfe19066a932b7673e239eb23d</td>\n",
       "      <td>27.0</td>\n",
       "      <td>261.0</td>\n",
       "      <td>1.0</td>\n",
       "      <td>371.0</td>\n",
       "      <td>26.0</td>\n",
       "      <td>4.0</td>\n",
       "      <td>26.0</td>\n",
       "      <td>baby</td>\n",
       "    </tr>\n",
       "    <tr>\n",
       "      <th>4</th>\n",
       "      <td>9dc1a7de274444849c219cff195d0b71</td>\n",
       "      <td>37.0</td>\n",
       "      <td>402.0</td>\n",
       "      <td>4.0</td>\n",
       "      <td>625.0</td>\n",
       "      <td>20.0</td>\n",
       "      <td>17.0</td>\n",
       "      <td>13.0</td>\n",
       "      <td>housewares</td>\n",
       "    </tr>\n",
       "  </tbody>\n",
       "</table>\n",
       "</div>"
      ],
      "text/plain": [
       "                         product_id  product_name_lenght  \\\n",
       "0  1e9e8ef04dbcff4541ed26657ea517e5                 40.0   \n",
       "1  3aa071139cb16b67ca9e5dea641aaa2f                 44.0   \n",
       "2  96bd76ec8810374ed1b65e291975717f                 46.0   \n",
       "3  cef67bcfe19066a932b7673e239eb23d                 27.0   \n",
       "4  9dc1a7de274444849c219cff195d0b71                 37.0   \n",
       "\n",
       "   product_description_lenght  product_photos_qty  product_weight_g  \\\n",
       "0                       287.0                 1.0             225.0   \n",
       "1                       276.0                 1.0            1000.0   \n",
       "2                       250.0                 1.0             154.0   \n",
       "3                       261.0                 1.0             371.0   \n",
       "4                       402.0                 4.0             625.0   \n",
       "\n",
       "   product_length_cm  product_height_cm  product_width_cm  \\\n",
       "0               16.0               10.0              14.0   \n",
       "1               30.0               18.0              20.0   \n",
       "2               18.0                9.0              15.0   \n",
       "3               26.0                4.0              26.0   \n",
       "4               20.0               17.0              13.0   \n",
       "\n",
       "  product_category_name_english  \n",
       "0                     perfumery  \n",
       "1                           art  \n",
       "2                sports_leisure  \n",
       "3                          baby  \n",
       "4                    housewares  "
      ]
     },
     "execution_count": 79,
     "metadata": {},
     "output_type": "execute_result"
    }
   ],
   "source": [
    "Products = pd.merge(Products, ProductName, on='product_category_name', how='left')\n",
    "Products.loc[Products['product_category_name_english'].isnull(), 'product_category_name_english'] = Products.loc[Products['product_category_name_english'].isnull(), 'product_category_name']\n",
    "Products.drop(columns=['product_category_name'], inplace=True)\n",
    "Products.head()"
   ]
  },
  {
   "cell_type": "markdown",
   "metadata": {
    "id": "58_C68lvqG3G"
   },
   "source": [
    "We replaced the product category names with the english translations to allow for easy understanding. If there is no translation in the Translation Dataset, it keep the original category name"
   ]
  },
  {
   "cell_type": "code",
   "execution_count": 80,
   "metadata": {
    "colab": {
     "base_uri": "https://localhost:8080/",
     "height": 366
    },
    "id": "lJ_-02DuyCdt",
    "outputId": "869fc309-9a0f-4bdb-d207-d3723d240280"
   },
   "outputs": [
    {
     "data": {
      "text/plain": [
       "product_id                       0\n",
       "product_name_lenght              0\n",
       "product_description_lenght       0\n",
       "product_photos_qty               0\n",
       "product_weight_g                 0\n",
       "product_length_cm                0\n",
       "product_height_cm                0\n",
       "product_width_cm                 0\n",
       "product_category_name_english    0\n",
       "dtype: int64"
      ]
     },
     "execution_count": 80,
     "metadata": {},
     "output_type": "execute_result"
    }
   ],
   "source": [
    "Products.isnull().sum()"
   ]
  },
  {
   "cell_type": "markdown",
   "metadata": {
    "id": "0iAnWvNgYX8j"
   },
   "source": [
    "## OrderPayment"
   ]
  },
  {
   "cell_type": "code",
   "execution_count": 81,
   "metadata": {
    "colab": {
     "base_uri": "https://localhost:8080/",
     "height": 178
    },
    "id": "AX6rhkFiYeCA",
    "outputId": "38cb610f-4bea-4ad6-d434-cdbbed0c6ac0"
   },
   "outputs": [
    {
     "data": {
      "text/plain": [
       "order_id\n",
       "False    99440\n",
       "True      4446\n",
       "Name: count, dtype: int64"
      ]
     },
     "execution_count": 81,
     "metadata": {},
     "output_type": "execute_result"
    }
   ],
   "source": [
    "OrderPayment['order_id'].duplicated().value_counts()"
   ]
  },
  {
   "cell_type": "markdown",
   "metadata": {
    "id": "n_ckyRtEaHAf"
   },
   "source": [
    "In the payment dataset, there are duplicated IDs in the dataset. This is due to the fact that when a voucher is used, there are multiple payment sequential. To resolve this, the number of voucher would be counted and written in a new column"
   ]
  },
  {
   "cell_type": "code",
   "execution_count": 82,
   "metadata": {
    "colab": {
     "base_uri": "https://localhost:8080/",
     "height": 206
    },
    "id": "26wt4loOjNu2",
    "outputId": "792fd4a2-ee82-42a8-c382-a0054e21ce54"
   },
   "outputs": [
    {
     "data": {
      "text/html": [
       "<div>\n",
       "<style scoped>\n",
       "    .dataframe tbody tr th:only-of-type {\n",
       "        vertical-align: middle;\n",
       "    }\n",
       "\n",
       "    .dataframe tbody tr th {\n",
       "        vertical-align: top;\n",
       "    }\n",
       "\n",
       "    .dataframe thead th {\n",
       "        text-align: right;\n",
       "    }\n",
       "</style>\n",
       "<table border=\"1\" class=\"dataframe\">\n",
       "  <thead>\n",
       "    <tr style=\"text-align: right;\">\n",
       "      <th></th>\n",
       "      <th>order_id</th>\n",
       "      <th>total_value</th>\n",
       "      <th>vouchers_used</th>\n",
       "      <th>payment_type</th>\n",
       "    </tr>\n",
       "  </thead>\n",
       "  <tbody>\n",
       "    <tr>\n",
       "      <th>0</th>\n",
       "      <td>00010242fe8c5a6d1ba2dd792cb16214</td>\n",
       "      <td>72.19</td>\n",
       "      <td>0</td>\n",
       "      <td>credit_card</td>\n",
       "    </tr>\n",
       "    <tr>\n",
       "      <th>1</th>\n",
       "      <td>00018f77f2f0320c557190d7a144bdd3</td>\n",
       "      <td>259.83</td>\n",
       "      <td>0</td>\n",
       "      <td>credit_card</td>\n",
       "    </tr>\n",
       "    <tr>\n",
       "      <th>2</th>\n",
       "      <td>000229ec398224ef6ca0657da4fc703e</td>\n",
       "      <td>216.87</td>\n",
       "      <td>0</td>\n",
       "      <td>credit_card</td>\n",
       "    </tr>\n",
       "    <tr>\n",
       "      <th>3</th>\n",
       "      <td>00024acbcdf0a6daa1e931b038114c75</td>\n",
       "      <td>25.78</td>\n",
       "      <td>0</td>\n",
       "      <td>credit_card</td>\n",
       "    </tr>\n",
       "    <tr>\n",
       "      <th>4</th>\n",
       "      <td>00042b26cf59d7ce69dfabb4e55b4fd9</td>\n",
       "      <td>218.04</td>\n",
       "      <td>0</td>\n",
       "      <td>credit_card</td>\n",
       "    </tr>\n",
       "  </tbody>\n",
       "</table>\n",
       "</div>"
      ],
      "text/plain": [
       "                           order_id  total_value  vouchers_used payment_type\n",
       "0  00010242fe8c5a6d1ba2dd792cb16214        72.19              0  credit_card\n",
       "1  00018f77f2f0320c557190d7a144bdd3       259.83              0  credit_card\n",
       "2  000229ec398224ef6ca0657da4fc703e       216.87              0  credit_card\n",
       "3  00024acbcdf0a6daa1e931b038114c75        25.78              0  credit_card\n",
       "4  00042b26cf59d7ce69dfabb4e55b4fd9       218.04              0  credit_card"
      ]
     },
     "execution_count": 82,
     "metadata": {},
     "output_type": "execute_result"
    }
   ],
   "source": [
    "OrderPayment = OrderPayment.groupby('order_id').agg(\n",
    "    total_value=('payment_value', 'sum'),\n",
    "    vouchers_used=('payment_value', 'size'),\n",
    "    payment_type=('payment_type', lambda x: x[x != 'voucher'].iloc[0] if (x != 'voucher').any() else 'voucher')\n",
    ").reset_index()\n",
    "\n",
    "OrderPayment.loc[OrderPayment['payment_type'] != 'voucher', 'vouchers_used'] = 0\n",
    "\n",
    "OrderPayment.head()"
   ]
  },
  {
   "cell_type": "markdown",
   "metadata": {
    "id": "jie6W0BZmolM"
   },
   "source": [
    "The duplicated order_id are merged together with the total value added together and theh number of vouchers are written in a column to clearly see how many have been used"
   ]
  },
  {
   "cell_type": "markdown",
   "metadata": {
    "id": "TfBEDQUOyKLL"
   },
   "source": [
    "## Overall\n"
   ]
  },
  {
   "cell_type": "code",
   "execution_count": 83,
   "metadata": {
    "id": "ZMZfEtVUGx88"
   },
   "outputs": [],
   "source": [
    "datasets = {\n",
    "    \"CustomerDataset\": CustomerDataset,\n",
    "    \"GeoLocation\": GeoLocation,\n",
    "    \"OrderItem\": OrderItem,\n",
    "    \"OrderPayment\": OrderPayment,\n",
    "    \"OrderReview\": OrderReview,\n",
    "    \"Orders\": Orders,\n",
    "    \"Products\": Products,\n",
    "    \"Sellers\": Sellers,\n",
    "    \"ProductName\": ProductName}"
   ]
  },
  {
   "cell_type": "code",
   "execution_count": 84,
   "metadata": {
    "colab": {
     "base_uri": "https://localhost:8080/"
    },
    "id": "18JtLZ0RyD0s",
    "outputId": "eeacf97d-872b-4a61-f721-870377671e87"
   },
   "outputs": [
    {
     "name": "stdout",
     "output_type": "stream",
     "text": [
      "For Dataset 'CustomerDataset' there are 0 Null values\n",
      "For Dataset 'GeoLocation' there are 0 Null values\n",
      "For Dataset 'OrderItem' there are 0 Null values\n",
      "For Dataset 'OrderPayment' there are 0 Null values\n",
      "For Dataset 'OrderReview' there are 0 Null values\n",
      "For Dataset 'Orders' there are 0 Null values\n",
      "For Dataset 'Products' there are 0 Null values\n",
      "For Dataset 'Sellers' there are 0 Null values\n",
      "For Dataset 'ProductName' there are 0 Null values\n"
     ]
    }
   ],
   "source": [
    "for name, df in datasets.items():\n",
    "  NullTester(name, df)"
   ]
  },
  {
   "cell_type": "code",
   "execution_count": 85,
   "metadata": {
    "colab": {
     "base_uri": "https://localhost:8080/"
    },
    "id": "1w4Y98QGyQj7",
    "outputId": "b84676de-1644-4cad-b67e-246ee61f807c"
   },
   "outputs": [
    {
     "name": "stdout",
     "output_type": "stream",
     "text": [
      "For Dataset 'CustomerDataset' there are 0 Duplicated rows\n",
      "For Dataset 'GeoLocation' there are 261831 Duplicated rows\n",
      "For Dataset 'OrderItem' there are 0 Duplicated rows\n",
      "For Dataset 'OrderPayment' there are 0 Duplicated rows\n",
      "For Dataset 'OrderReview' there are 0 Duplicated rows\n",
      "For Dataset 'Orders' there are 0 Duplicated rows\n",
      "For Dataset 'Products' there are 0 Duplicated rows\n",
      "For Dataset 'Sellers' there are 0 Duplicated rows\n",
      "For Dataset 'ProductName' there are 0 Duplicated rows\n"
     ]
    }
   ],
   "source": [
    "for name, df in datasets.items():\n",
    "  DupeTester(name, df)"
   ]
  },
  {
   "cell_type": "markdown",
   "metadata": {},
   "source": [
    "## Merging of Datasets\n"
   ]
  },
  {
   "cell_type": "markdown",
   "metadata": {
    "id": "-NMGPyP4VmnO"
   },
   "source": [
    "The datasets will be merged to create one dataset to work on"
   ]
  },
  {
   "cell_type": "code",
   "execution_count": 86,
   "metadata": {
    "id": "QSf0fg7OVufR"
   },
   "outputs": [],
   "source": [
    "df_total = pd.merge(Orders, OrderItem, on='order_id', how='left')\n",
    "df_total = pd.merge(df_total, Products, on='product_id', how='inner')\n",
    "df_total = pd.merge(df_total, OrderPayment, on='order_id', how = 'left')\n",
    "df_total = pd.merge(df_total, OrderReview, on='order_id', how='left')\n",
    "df_total = pd.merge(df_total, CustomerDataset, on='customer_id', how='right')\n",
    "df_total = pd.merge(df_total, Sellers, on= 'seller_id', how='left')\n"
   ]
  },
  {
   "cell_type": "markdown",
   "metadata": {
    "id": "RXmdNUk5WOki"
   },
   "source": [
    "Above we combined the data sets to end up with a total dataset with information on each order. The Geolocation dataset was left out as it provided too much unnecessary complexity without much benefits "
   ]
  },
  {
   "cell_type": "code",
   "execution_count": 87,
   "metadata": {
    "colab": {
     "base_uri": "https://localhost:8080/",
     "height": 1000
    },
    "id": "d47jq5mLXbBC",
    "outputId": "dc9240a6-e760-497a-db86-3e8ebfc1d37f"
   },
   "outputs": [
    {
     "data": {
      "text/plain": [
       "order_id                          775\n",
       "customer_id                         0\n",
       "order_status                      775\n",
       "order_purchase_timestamp          775\n",
       "order_estimated_delivery_date     775\n",
       "order_item_id                     775\n",
       "product_id                        775\n",
       "seller_id                         775\n",
       "shipping_limit_date               775\n",
       "price                             775\n",
       "freight_value                     775\n",
       "product_name_lenght               775\n",
       "product_description_lenght        775\n",
       "product_photos_qty                775\n",
       "product_weight_g                  775\n",
       "product_length_cm                 775\n",
       "product_height_cm                 775\n",
       "product_width_cm                  775\n",
       "product_category_name_english     775\n",
       "total_value                       778\n",
       "vouchers_used                     778\n",
       "payment_type                      778\n",
       "review_id                        1717\n",
       "review_score                     1717\n",
       "customer_unique_id                  0\n",
       "customer_zip_code_prefix            0\n",
       "customer_city                       0\n",
       "customer_state                      0\n",
       "seller_zip_code_prefix            775\n",
       "seller_city                       775\n",
       "seller_state                      775\n",
       "dtype: int64"
      ]
     },
     "execution_count": 87,
     "metadata": {},
     "output_type": "execute_result"
    }
   ],
   "source": [
    "df_total.isnull().sum()"
   ]
  },
  {
   "cell_type": "markdown",
   "metadata": {},
   "source": [
    "As we can see there are many rows with customer IDs but no order IDs. This means that there are lots of customers that registered an account but have not purchased any items. These informations are not required for this analysis and will be dropped"
   ]
  },
  {
   "cell_type": "code",
   "execution_count": 88,
   "metadata": {},
   "outputs": [],
   "source": [
    "df_total.dropna(subset='order_id', inplace=True)"
   ]
  },
  {
   "cell_type": "markdown",
   "metadata": {},
   "source": [
    "The empty values in the reviews means that the customer did not leave a review for the order. To fix this a standard 'None' value will fill the Null"
   ]
  },
  {
   "cell_type": "code",
   "execution_count": 89,
   "metadata": {},
   "outputs": [
    {
     "ename": "KeyError",
     "evalue": "\"['review_id'] not found in axis\"",
     "output_type": "error",
     "traceback": [
      "\u001b[1;31m---------------------------------------------------------------------------\u001b[0m",
      "\u001b[1;31mKeyError\u001b[0m                                  Traceback (most recent call last)",
      "Cell \u001b[1;32mIn[89], line 1\u001b[0m\n\u001b[1;32m----> 1\u001b[0m \u001b[43mdf_total\u001b[49m\u001b[38;5;241;43m.\u001b[39;49m\u001b[43mdrop\u001b[49m\u001b[43m(\u001b[49m\u001b[43m{\u001b[49m\u001b[38;5;124;43m'\u001b[39;49m\u001b[38;5;124;43mreview_id\u001b[39;49m\u001b[38;5;124;43m'\u001b[39;49m\u001b[43m:\u001b[49m\u001b[38;5;124;43m'\u001b[39;49m\u001b[38;5;124;43mNone\u001b[39;49m\u001b[38;5;124;43m'\u001b[39;49m\u001b[43m}\u001b[49m\u001b[43m,\u001b[49m\u001b[43m \u001b[49m\u001b[43minplace\u001b[49m\u001b[38;5;241;43m=\u001b[39;49m\u001b[38;5;28;43;01mTrue\u001b[39;49;00m\u001b[43m)\u001b[49m\n\u001b[0;32m      2\u001b[0m df_total\u001b[38;5;241m.\u001b[39mfillna({\u001b[38;5;124m'\u001b[39m\u001b[38;5;124mreview_score\u001b[39m\u001b[38;5;124m'\u001b[39m: \u001b[38;5;241m0\u001b[39m}, inplace\u001b[38;5;241m=\u001b[39m\u001b[38;5;28;01mTrue\u001b[39;00m)\n\u001b[0;32m      3\u001b[0m df_total\u001b[38;5;241m.\u001b[39misnull()\u001b[38;5;241m.\u001b[39msum()\n",
      "File \u001b[1;32mc:\\Users\\goh2c\\Documents\\CAIE\\CAIE\\.conda\\Lib\\site-packages\\pandas\\core\\frame.py:5581\u001b[0m, in \u001b[0;36mDataFrame.drop\u001b[1;34m(self, labels, axis, index, columns, level, inplace, errors)\u001b[0m\n\u001b[0;32m   5433\u001b[0m \u001b[38;5;28;01mdef\u001b[39;00m\u001b[38;5;250m \u001b[39m\u001b[38;5;21mdrop\u001b[39m(\n\u001b[0;32m   5434\u001b[0m     \u001b[38;5;28mself\u001b[39m,\n\u001b[0;32m   5435\u001b[0m     labels: IndexLabel \u001b[38;5;241m|\u001b[39m \u001b[38;5;28;01mNone\u001b[39;00m \u001b[38;5;241m=\u001b[39m \u001b[38;5;28;01mNone\u001b[39;00m,\n\u001b[1;32m   (...)\u001b[0m\n\u001b[0;32m   5442\u001b[0m     errors: IgnoreRaise \u001b[38;5;241m=\u001b[39m \u001b[38;5;124m\"\u001b[39m\u001b[38;5;124mraise\u001b[39m\u001b[38;5;124m\"\u001b[39m,\n\u001b[0;32m   5443\u001b[0m ) \u001b[38;5;241m-\u001b[39m\u001b[38;5;241m>\u001b[39m DataFrame \u001b[38;5;241m|\u001b[39m \u001b[38;5;28;01mNone\u001b[39;00m:\n\u001b[0;32m   5444\u001b[0m \u001b[38;5;250m    \u001b[39m\u001b[38;5;124;03m\"\"\"\u001b[39;00m\n\u001b[0;32m   5445\u001b[0m \u001b[38;5;124;03m    Drop specified labels from rows or columns.\u001b[39;00m\n\u001b[0;32m   5446\u001b[0m \n\u001b[1;32m   (...)\u001b[0m\n\u001b[0;32m   5579\u001b[0m \u001b[38;5;124;03m            weight  1.0     0.8\u001b[39;00m\n\u001b[0;32m   5580\u001b[0m \u001b[38;5;124;03m    \"\"\"\u001b[39;00m\n\u001b[1;32m-> 5581\u001b[0m     \u001b[38;5;28;01mreturn\u001b[39;00m \u001b[38;5;28;43msuper\u001b[39;49m\u001b[43m(\u001b[49m\u001b[43m)\u001b[49m\u001b[38;5;241;43m.\u001b[39;49m\u001b[43mdrop\u001b[49m\u001b[43m(\u001b[49m\n\u001b[0;32m   5582\u001b[0m \u001b[43m        \u001b[49m\u001b[43mlabels\u001b[49m\u001b[38;5;241;43m=\u001b[39;49m\u001b[43mlabels\u001b[49m\u001b[43m,\u001b[49m\n\u001b[0;32m   5583\u001b[0m \u001b[43m        \u001b[49m\u001b[43maxis\u001b[49m\u001b[38;5;241;43m=\u001b[39;49m\u001b[43maxis\u001b[49m\u001b[43m,\u001b[49m\n\u001b[0;32m   5584\u001b[0m \u001b[43m        \u001b[49m\u001b[43mindex\u001b[49m\u001b[38;5;241;43m=\u001b[39;49m\u001b[43mindex\u001b[49m\u001b[43m,\u001b[49m\n\u001b[0;32m   5585\u001b[0m \u001b[43m        \u001b[49m\u001b[43mcolumns\u001b[49m\u001b[38;5;241;43m=\u001b[39;49m\u001b[43mcolumns\u001b[49m\u001b[43m,\u001b[49m\n\u001b[0;32m   5586\u001b[0m \u001b[43m        \u001b[49m\u001b[43mlevel\u001b[49m\u001b[38;5;241;43m=\u001b[39;49m\u001b[43mlevel\u001b[49m\u001b[43m,\u001b[49m\n\u001b[0;32m   5587\u001b[0m \u001b[43m        \u001b[49m\u001b[43minplace\u001b[49m\u001b[38;5;241;43m=\u001b[39;49m\u001b[43minplace\u001b[49m\u001b[43m,\u001b[49m\n\u001b[0;32m   5588\u001b[0m \u001b[43m        \u001b[49m\u001b[43merrors\u001b[49m\u001b[38;5;241;43m=\u001b[39;49m\u001b[43merrors\u001b[49m\u001b[43m,\u001b[49m\n\u001b[0;32m   5589\u001b[0m \u001b[43m    \u001b[49m\u001b[43m)\u001b[49m\n",
      "File \u001b[1;32mc:\\Users\\goh2c\\Documents\\CAIE\\CAIE\\.conda\\Lib\\site-packages\\pandas\\core\\generic.py:4788\u001b[0m, in \u001b[0;36mNDFrame.drop\u001b[1;34m(self, labels, axis, index, columns, level, inplace, errors)\u001b[0m\n\u001b[0;32m   4786\u001b[0m \u001b[38;5;28;01mfor\u001b[39;00m axis, labels \u001b[38;5;129;01min\u001b[39;00m axes\u001b[38;5;241m.\u001b[39mitems():\n\u001b[0;32m   4787\u001b[0m     \u001b[38;5;28;01mif\u001b[39;00m labels \u001b[38;5;129;01mis\u001b[39;00m \u001b[38;5;129;01mnot\u001b[39;00m \u001b[38;5;28;01mNone\u001b[39;00m:\n\u001b[1;32m-> 4788\u001b[0m         obj \u001b[38;5;241m=\u001b[39m \u001b[43mobj\u001b[49m\u001b[38;5;241;43m.\u001b[39;49m\u001b[43m_drop_axis\u001b[49m\u001b[43m(\u001b[49m\u001b[43mlabels\u001b[49m\u001b[43m,\u001b[49m\u001b[43m \u001b[49m\u001b[43maxis\u001b[49m\u001b[43m,\u001b[49m\u001b[43m \u001b[49m\u001b[43mlevel\u001b[49m\u001b[38;5;241;43m=\u001b[39;49m\u001b[43mlevel\u001b[49m\u001b[43m,\u001b[49m\u001b[43m \u001b[49m\u001b[43merrors\u001b[49m\u001b[38;5;241;43m=\u001b[39;49m\u001b[43merrors\u001b[49m\u001b[43m)\u001b[49m\n\u001b[0;32m   4790\u001b[0m \u001b[38;5;28;01mif\u001b[39;00m inplace:\n\u001b[0;32m   4791\u001b[0m     \u001b[38;5;28mself\u001b[39m\u001b[38;5;241m.\u001b[39m_update_inplace(obj)\n",
      "File \u001b[1;32mc:\\Users\\goh2c\\Documents\\CAIE\\CAIE\\.conda\\Lib\\site-packages\\pandas\\core\\generic.py:4830\u001b[0m, in \u001b[0;36mNDFrame._drop_axis\u001b[1;34m(self, labels, axis, level, errors, only_slice)\u001b[0m\n\u001b[0;32m   4828\u001b[0m         new_axis \u001b[38;5;241m=\u001b[39m axis\u001b[38;5;241m.\u001b[39mdrop(labels, level\u001b[38;5;241m=\u001b[39mlevel, errors\u001b[38;5;241m=\u001b[39merrors)\n\u001b[0;32m   4829\u001b[0m     \u001b[38;5;28;01melse\u001b[39;00m:\n\u001b[1;32m-> 4830\u001b[0m         new_axis \u001b[38;5;241m=\u001b[39m \u001b[43maxis\u001b[49m\u001b[38;5;241;43m.\u001b[39;49m\u001b[43mdrop\u001b[49m\u001b[43m(\u001b[49m\u001b[43mlabels\u001b[49m\u001b[43m,\u001b[49m\u001b[43m \u001b[49m\u001b[43merrors\u001b[49m\u001b[38;5;241;43m=\u001b[39;49m\u001b[43merrors\u001b[49m\u001b[43m)\u001b[49m\n\u001b[0;32m   4831\u001b[0m     indexer \u001b[38;5;241m=\u001b[39m axis\u001b[38;5;241m.\u001b[39mget_indexer(new_axis)\n\u001b[0;32m   4833\u001b[0m \u001b[38;5;66;03m# Case for non-unique axis\u001b[39;00m\n\u001b[0;32m   4834\u001b[0m \u001b[38;5;28;01melse\u001b[39;00m:\n",
      "File \u001b[1;32mc:\\Users\\goh2c\\Documents\\CAIE\\CAIE\\.conda\\Lib\\site-packages\\pandas\\core\\indexes\\base.py:7070\u001b[0m, in \u001b[0;36mIndex.drop\u001b[1;34m(self, labels, errors)\u001b[0m\n\u001b[0;32m   7068\u001b[0m \u001b[38;5;28;01mif\u001b[39;00m mask\u001b[38;5;241m.\u001b[39many():\n\u001b[0;32m   7069\u001b[0m     \u001b[38;5;28;01mif\u001b[39;00m errors \u001b[38;5;241m!=\u001b[39m \u001b[38;5;124m\"\u001b[39m\u001b[38;5;124mignore\u001b[39m\u001b[38;5;124m\"\u001b[39m:\n\u001b[1;32m-> 7070\u001b[0m         \u001b[38;5;28;01mraise\u001b[39;00m \u001b[38;5;167;01mKeyError\u001b[39;00m(\u001b[38;5;124mf\u001b[39m\u001b[38;5;124m\"\u001b[39m\u001b[38;5;132;01m{\u001b[39;00mlabels[mask]\u001b[38;5;241m.\u001b[39mtolist()\u001b[38;5;132;01m}\u001b[39;00m\u001b[38;5;124m not found in axis\u001b[39m\u001b[38;5;124m\"\u001b[39m)\n\u001b[0;32m   7071\u001b[0m     indexer \u001b[38;5;241m=\u001b[39m indexer[\u001b[38;5;241m~\u001b[39mmask]\n\u001b[0;32m   7072\u001b[0m \u001b[38;5;28;01mreturn\u001b[39;00m \u001b[38;5;28mself\u001b[39m\u001b[38;5;241m.\u001b[39mdelete(indexer)\n",
      "\u001b[1;31mKeyError\u001b[0m: \"['review_id'] not found in axis\""
     ]
    }
   ],
   "source": [
    "df_total.drop({'review_id':'None'}, inplace=True)\n",
    "df_total.fillna({'review_score': 0}, inplace=True)\n",
    "df_total.isnull().sum()"
   ]
  },
  {
   "cell_type": "code",
   "execution_count": null,
   "metadata": {},
   "outputs": [
    {
     "data": {
      "text/html": [
       "<div>\n",
       "<style scoped>\n",
       "    .dataframe tbody tr th:only-of-type {\n",
       "        vertical-align: middle;\n",
       "    }\n",
       "\n",
       "    .dataframe tbody tr th {\n",
       "        vertical-align: top;\n",
       "    }\n",
       "\n",
       "    .dataframe thead th {\n",
       "        text-align: right;\n",
       "    }\n",
       "</style>\n",
       "<table border=\"1\" class=\"dataframe\">\n",
       "  <thead>\n",
       "    <tr style=\"text-align: right;\">\n",
       "      <th></th>\n",
       "      <th>order_id</th>\n",
       "      <th>customer_id</th>\n",
       "      <th>order_status</th>\n",
       "      <th>order_purchase_timestamp</th>\n",
       "      <th>order_estimated_delivery_date</th>\n",
       "      <th>order_item_id</th>\n",
       "      <th>product_id</th>\n",
       "      <th>seller_id</th>\n",
       "      <th>shipping_limit_date</th>\n",
       "      <th>price</th>\n",
       "      <th>...</th>\n",
       "      <th>payment_type</th>\n",
       "      <th>review_id</th>\n",
       "      <th>review_score</th>\n",
       "      <th>customer_unique_id</th>\n",
       "      <th>customer_zip_code_prefix</th>\n",
       "      <th>customer_city</th>\n",
       "      <th>customer_state</th>\n",
       "      <th>seller_zip_code_prefix</th>\n",
       "      <th>seller_city</th>\n",
       "      <th>seller_state</th>\n",
       "    </tr>\n",
       "  </thead>\n",
       "  <tbody>\n",
       "    <tr>\n",
       "      <th>24139</th>\n",
       "      <td>bfbd0f9bdef84302105ad712db648a6c</td>\n",
       "      <td>86dc2ffce2dfff336de2f386a786e574</td>\n",
       "      <td>delivered</td>\n",
       "      <td>2016-09-15 12:16:38</td>\n",
       "      <td>2016-10-04 00:00:00</td>\n",
       "      <td>1.0</td>\n",
       "      <td>5a6b04657a4c5ee34285d1e4619a96b4</td>\n",
       "      <td>ecccfa2bb93b34a3bf033cc5d1dcdc69</td>\n",
       "      <td>2016-09-19 23:11:33</td>\n",
       "      <td>44.99</td>\n",
       "      <td>...</td>\n",
       "      <td>NaN</td>\n",
       "      <td>6916ca4502d6d3bfd39818759d55d536</td>\n",
       "      <td>1.0</td>\n",
       "      <td>830d5b7aaa3b6f1e9ad63703bec97d23</td>\n",
       "      <td>14600</td>\n",
       "      <td>sao joaquim da barra</td>\n",
       "      <td>SP</td>\n",
       "      <td>81810.0</td>\n",
       "      <td>curitiba</td>\n",
       "      <td>PR</td>\n",
       "    </tr>\n",
       "    <tr>\n",
       "      <th>24140</th>\n",
       "      <td>bfbd0f9bdef84302105ad712db648a6c</td>\n",
       "      <td>86dc2ffce2dfff336de2f386a786e574</td>\n",
       "      <td>delivered</td>\n",
       "      <td>2016-09-15 12:16:38</td>\n",
       "      <td>2016-10-04 00:00:00</td>\n",
       "      <td>2.0</td>\n",
       "      <td>5a6b04657a4c5ee34285d1e4619a96b4</td>\n",
       "      <td>ecccfa2bb93b34a3bf033cc5d1dcdc69</td>\n",
       "      <td>2016-09-19 23:11:33</td>\n",
       "      <td>44.99</td>\n",
       "      <td>...</td>\n",
       "      <td>NaN</td>\n",
       "      <td>6916ca4502d6d3bfd39818759d55d536</td>\n",
       "      <td>1.0</td>\n",
       "      <td>830d5b7aaa3b6f1e9ad63703bec97d23</td>\n",
       "      <td>14600</td>\n",
       "      <td>sao joaquim da barra</td>\n",
       "      <td>SP</td>\n",
       "      <td>81810.0</td>\n",
       "      <td>curitiba</td>\n",
       "      <td>PR</td>\n",
       "    </tr>\n",
       "    <tr>\n",
       "      <th>24141</th>\n",
       "      <td>bfbd0f9bdef84302105ad712db648a6c</td>\n",
       "      <td>86dc2ffce2dfff336de2f386a786e574</td>\n",
       "      <td>delivered</td>\n",
       "      <td>2016-09-15 12:16:38</td>\n",
       "      <td>2016-10-04 00:00:00</td>\n",
       "      <td>3.0</td>\n",
       "      <td>5a6b04657a4c5ee34285d1e4619a96b4</td>\n",
       "      <td>ecccfa2bb93b34a3bf033cc5d1dcdc69</td>\n",
       "      <td>2016-09-19 23:11:33</td>\n",
       "      <td>44.99</td>\n",
       "      <td>...</td>\n",
       "      <td>NaN</td>\n",
       "      <td>6916ca4502d6d3bfd39818759d55d536</td>\n",
       "      <td>1.0</td>\n",
       "      <td>830d5b7aaa3b6f1e9ad63703bec97d23</td>\n",
       "      <td>14600</td>\n",
       "      <td>sao joaquim da barra</td>\n",
       "      <td>SP</td>\n",
       "      <td>81810.0</td>\n",
       "      <td>curitiba</td>\n",
       "      <td>PR</td>\n",
       "    </tr>\n",
       "  </tbody>\n",
       "</table>\n",
       "<p>3 rows × 31 columns</p>\n",
       "</div>"
      ],
      "text/plain": [
       "                               order_id                       customer_id  \\\n",
       "24139  bfbd0f9bdef84302105ad712db648a6c  86dc2ffce2dfff336de2f386a786e574   \n",
       "24140  bfbd0f9bdef84302105ad712db648a6c  86dc2ffce2dfff336de2f386a786e574   \n",
       "24141  bfbd0f9bdef84302105ad712db648a6c  86dc2ffce2dfff336de2f386a786e574   \n",
       "\n",
       "      order_status order_purchase_timestamp order_estimated_delivery_date  \\\n",
       "24139    delivered      2016-09-15 12:16:38           2016-10-04 00:00:00   \n",
       "24140    delivered      2016-09-15 12:16:38           2016-10-04 00:00:00   \n",
       "24141    delivered      2016-09-15 12:16:38           2016-10-04 00:00:00   \n",
       "\n",
       "       order_item_id                        product_id  \\\n",
       "24139            1.0  5a6b04657a4c5ee34285d1e4619a96b4   \n",
       "24140            2.0  5a6b04657a4c5ee34285d1e4619a96b4   \n",
       "24141            3.0  5a6b04657a4c5ee34285d1e4619a96b4   \n",
       "\n",
       "                              seller_id  shipping_limit_date  price  ...  \\\n",
       "24139  ecccfa2bb93b34a3bf033cc5d1dcdc69  2016-09-19 23:11:33  44.99  ...   \n",
       "24140  ecccfa2bb93b34a3bf033cc5d1dcdc69  2016-09-19 23:11:33  44.99  ...   \n",
       "24141  ecccfa2bb93b34a3bf033cc5d1dcdc69  2016-09-19 23:11:33  44.99  ...   \n",
       "\n",
       "       payment_type                         review_id  review_score  \\\n",
       "24139           NaN  6916ca4502d6d3bfd39818759d55d536           1.0   \n",
       "24140           NaN  6916ca4502d6d3bfd39818759d55d536           1.0   \n",
       "24141           NaN  6916ca4502d6d3bfd39818759d55d536           1.0   \n",
       "\n",
       "                     customer_unique_id  customer_zip_code_prefix  \\\n",
       "24139  830d5b7aaa3b6f1e9ad63703bec97d23                     14600   \n",
       "24140  830d5b7aaa3b6f1e9ad63703bec97d23                     14600   \n",
       "24141  830d5b7aaa3b6f1e9ad63703bec97d23                     14600   \n",
       "\n",
       "              customer_city  customer_state  seller_zip_code_prefix  \\\n",
       "24139  sao joaquim da barra              SP                 81810.0   \n",
       "24140  sao joaquim da barra              SP                 81810.0   \n",
       "24141  sao joaquim da barra              SP                 81810.0   \n",
       "\n",
       "      seller_city  seller_state  \n",
       "24139    curitiba            PR  \n",
       "24140    curitiba            PR  \n",
       "24141    curitiba            PR  \n",
       "\n",
       "[3 rows x 31 columns]"
      ]
     },
     "execution_count": 38,
     "metadata": {},
     "output_type": "execute_result"
    }
   ],
   "source": [
    "empty_age_rows = df_total[df_total['payment_type'].isna()]\n",
    "empty_age_rows"
   ]
  },
  {
   "cell_type": "markdown",
   "metadata": {},
   "source": [
    "For this order, there were no payment method in the dataset which could mean that they did not pay for the order. This order will be dropped as it would not be important in predicting repeat buyers. "
   ]
  },
  {
   "cell_type": "code",
   "execution_count": null,
   "metadata": {},
   "outputs": [
    {
     "data": {
      "text/plain": [
       "order_id                         0\n",
       "customer_id                      0\n",
       "order_status                     0\n",
       "order_purchase_timestamp         0\n",
       "order_estimated_delivery_date    0\n",
       "order_item_id                    0\n",
       "product_id                       0\n",
       "seller_id                        0\n",
       "shipping_limit_date              0\n",
       "price                            0\n",
       "freight_value                    0\n",
       "product_name_lenght              0\n",
       "product_description_lenght       0\n",
       "product_photos_qty               0\n",
       "product_weight_g                 0\n",
       "product_length_cm                0\n",
       "product_height_cm                0\n",
       "product_width_cm                 0\n",
       "product_category_name_english    0\n",
       "total_value                      0\n",
       "vouchers_used                    0\n",
       "payment_type                     0\n",
       "review_id                        0\n",
       "review_score                     0\n",
       "customer_unique_id               0\n",
       "customer_zip_code_prefix         0\n",
       "customer_city                    0\n",
       "customer_state                   0\n",
       "seller_zip_code_prefix           0\n",
       "seller_city                      0\n",
       "seller_state                     0\n",
       "dtype: int64"
      ]
     },
     "execution_count": 39,
     "metadata": {},
     "output_type": "execute_result"
    }
   ],
   "source": [
    "df_total.dropna(inplace=True)\n",
    "df_total.isnull().sum()"
   ]
  },
  {
   "cell_type": "code",
   "execution_count": null,
   "metadata": {},
   "outputs": [
    {
     "data": {
      "text/html": [
       "<div>\n",
       "<style scoped>\n",
       "    .dataframe tbody tr th:only-of-type {\n",
       "        vertical-align: middle;\n",
       "    }\n",
       "\n",
       "    .dataframe tbody tr th {\n",
       "        vertical-align: top;\n",
       "    }\n",
       "\n",
       "    .dataframe thead th {\n",
       "        text-align: right;\n",
       "    }\n",
       "</style>\n",
       "<table border=\"1\" class=\"dataframe\">\n",
       "  <thead>\n",
       "    <tr style=\"text-align: right;\">\n",
       "      <th></th>\n",
       "      <th>order_id</th>\n",
       "      <th>customer_id</th>\n",
       "      <th>order_status</th>\n",
       "      <th>order_purchase_timestamp</th>\n",
       "      <th>order_estimated_delivery_date</th>\n",
       "      <th>order_item_id</th>\n",
       "      <th>product_id</th>\n",
       "      <th>seller_id</th>\n",
       "      <th>shipping_limit_date</th>\n",
       "      <th>price</th>\n",
       "      <th>...</th>\n",
       "      <th>review_id</th>\n",
       "      <th>review_score</th>\n",
       "      <th>customer_unique_id</th>\n",
       "      <th>customer_zip_code_prefix</th>\n",
       "      <th>customer_city</th>\n",
       "      <th>customer_state</th>\n",
       "      <th>seller_zip_code_prefix</th>\n",
       "      <th>seller_city</th>\n",
       "      <th>seller_state</th>\n",
       "      <th>estimated_delivery_time</th>\n",
       "    </tr>\n",
       "  </thead>\n",
       "  <tbody>\n",
       "    <tr>\n",
       "      <th>0</th>\n",
       "      <td>00e7ee1b050b8499577073aeb2a297a1</td>\n",
       "      <td>06b8999e2fba1a1fbc88172c00ba8bc7</td>\n",
       "      <td>delivered</td>\n",
       "      <td>2017-05-16 15:05:35</td>\n",
       "      <td>2017-06-05</td>\n",
       "      <td>1.0</td>\n",
       "      <td>a9516a079e37a9c9c36b9b78b10169e8</td>\n",
       "      <td>7c67e1448b00f6e969d365cea6b010ab</td>\n",
       "      <td>2017-05-22 15:22:12</td>\n",
       "      <td>124.99</td>\n",
       "      <td>...</td>\n",
       "      <td>88b8b52d46df026a9d1ad2136a59b30b</td>\n",
       "      <td>4.0</td>\n",
       "      <td>861eff4711a542e4b93843c6dd7febb0</td>\n",
       "      <td>14409</td>\n",
       "      <td>franca</td>\n",
       "      <td>SP</td>\n",
       "      <td>8577.0</td>\n",
       "      <td>itaquaquecetuba</td>\n",
       "      <td>SP</td>\n",
       "      <td>19</td>\n",
       "    </tr>\n",
       "    <tr>\n",
       "      <th>1</th>\n",
       "      <td>29150127e6685892b6eab3eec79f59c7</td>\n",
       "      <td>18955e83d337fd6b2def6b18a428ac77</td>\n",
       "      <td>delivered</td>\n",
       "      <td>2018-01-12 20:48:24</td>\n",
       "      <td>2018-02-06</td>\n",
       "      <td>1.0</td>\n",
       "      <td>4aa6014eceb682077f9dc4bffebc05b0</td>\n",
       "      <td>b8bc237ba3788b23da09c0f1f3a3288c</td>\n",
       "      <td>2018-01-18 20:58:32</td>\n",
       "      <td>289.00</td>\n",
       "      <td>...</td>\n",
       "      <td>02fc48a9efa3e3d0f1a8ea26507eeec3</td>\n",
       "      <td>5.0</td>\n",
       "      <td>290c77bc529b7ac935b93aa66c333dc3</td>\n",
       "      <td>9790</td>\n",
       "      <td>sao bernardo do campo</td>\n",
       "      <td>SP</td>\n",
       "      <td>88303.0</td>\n",
       "      <td>itajai</td>\n",
       "      <td>SC</td>\n",
       "      <td>24</td>\n",
       "    </tr>\n",
       "    <tr>\n",
       "      <th>2</th>\n",
       "      <td>b2059ed67ce144a36e2aa97d2c9e9ad2</td>\n",
       "      <td>4e7b3e00288586ebd08712fdd0374a03</td>\n",
       "      <td>delivered</td>\n",
       "      <td>2018-05-19 16:07:45</td>\n",
       "      <td>2018-06-13</td>\n",
       "      <td>1.0</td>\n",
       "      <td>bd07b66896d6f1494f5b86251848ced7</td>\n",
       "      <td>7c67e1448b00f6e969d365cea6b010ab</td>\n",
       "      <td>2018-06-05 16:19:10</td>\n",
       "      <td>139.94</td>\n",
       "      <td>...</td>\n",
       "      <td>5ad6695d76ee186dc473c42706984d87</td>\n",
       "      <td>5.0</td>\n",
       "      <td>060e732b5b29e8181a18229c7b0b2b5e</td>\n",
       "      <td>1151</td>\n",
       "      <td>sao paulo</td>\n",
       "      <td>SP</td>\n",
       "      <td>8577.0</td>\n",
       "      <td>itaquaquecetuba</td>\n",
       "      <td>SP</td>\n",
       "      <td>24</td>\n",
       "    </tr>\n",
       "    <tr>\n",
       "      <th>3</th>\n",
       "      <td>951670f92359f4fe4a63112aa7306eba</td>\n",
       "      <td>b2b6027bc5c5109e529d4dc6358b12c3</td>\n",
       "      <td>delivered</td>\n",
       "      <td>2018-03-13 16:06:38</td>\n",
       "      <td>2018-04-10</td>\n",
       "      <td>1.0</td>\n",
       "      <td>a5647c44af977b148e0a3a4751a09e2e</td>\n",
       "      <td>7c67e1448b00f6e969d365cea6b010ab</td>\n",
       "      <td>2018-03-27 16:31:16</td>\n",
       "      <td>149.94</td>\n",
       "      <td>...</td>\n",
       "      <td>059a801bb31f6aab2266e672cab87bc5</td>\n",
       "      <td>5.0</td>\n",
       "      <td>259dac757896d24d7702b9acbbff3f3c</td>\n",
       "      <td>8775</td>\n",
       "      <td>mogi das cruzes</td>\n",
       "      <td>SP</td>\n",
       "      <td>8577.0</td>\n",
       "      <td>itaquaquecetuba</td>\n",
       "      <td>SP</td>\n",
       "      <td>27</td>\n",
       "    </tr>\n",
       "    <tr>\n",
       "      <th>4</th>\n",
       "      <td>6b7d50bd145f6fc7f33cebabd7e49d0f</td>\n",
       "      <td>4f2d8ab171c80ec8364f7c12e35b23ad</td>\n",
       "      <td>delivered</td>\n",
       "      <td>2018-07-29 09:51:30</td>\n",
       "      <td>2018-08-15</td>\n",
       "      <td>1.0</td>\n",
       "      <td>9391a573abe00141c56e38d84d7d5b3b</td>\n",
       "      <td>4a3ca9315b744ce9f8e9374361493884</td>\n",
       "      <td>2018-07-31 10:10:09</td>\n",
       "      <td>230.00</td>\n",
       "      <td>...</td>\n",
       "      <td>8490879d58d6c5d7773f2739a03f089a</td>\n",
       "      <td>5.0</td>\n",
       "      <td>345ecd01c38d18a9036ed96c73b8d066</td>\n",
       "      <td>13056</td>\n",
       "      <td>campinas</td>\n",
       "      <td>SP</td>\n",
       "      <td>14940.0</td>\n",
       "      <td>ibitinga</td>\n",
       "      <td>SP</td>\n",
       "      <td>16</td>\n",
       "    </tr>\n",
       "  </tbody>\n",
       "</table>\n",
       "<p>5 rows × 32 columns</p>\n",
       "</div>"
      ],
      "text/plain": [
       "                           order_id                       customer_id  \\\n",
       "0  00e7ee1b050b8499577073aeb2a297a1  06b8999e2fba1a1fbc88172c00ba8bc7   \n",
       "1  29150127e6685892b6eab3eec79f59c7  18955e83d337fd6b2def6b18a428ac77   \n",
       "2  b2059ed67ce144a36e2aa97d2c9e9ad2  4e7b3e00288586ebd08712fdd0374a03   \n",
       "3  951670f92359f4fe4a63112aa7306eba  b2b6027bc5c5109e529d4dc6358b12c3   \n",
       "4  6b7d50bd145f6fc7f33cebabd7e49d0f  4f2d8ab171c80ec8364f7c12e35b23ad   \n",
       "\n",
       "  order_status order_purchase_timestamp order_estimated_delivery_date  \\\n",
       "0    delivered      2017-05-16 15:05:35                    2017-06-05   \n",
       "1    delivered      2018-01-12 20:48:24                    2018-02-06   \n",
       "2    delivered      2018-05-19 16:07:45                    2018-06-13   \n",
       "3    delivered      2018-03-13 16:06:38                    2018-04-10   \n",
       "4    delivered      2018-07-29 09:51:30                    2018-08-15   \n",
       "\n",
       "   order_item_id                        product_id  \\\n",
       "0            1.0  a9516a079e37a9c9c36b9b78b10169e8   \n",
       "1            1.0  4aa6014eceb682077f9dc4bffebc05b0   \n",
       "2            1.0  bd07b66896d6f1494f5b86251848ced7   \n",
       "3            1.0  a5647c44af977b148e0a3a4751a09e2e   \n",
       "4            1.0  9391a573abe00141c56e38d84d7d5b3b   \n",
       "\n",
       "                          seller_id  shipping_limit_date   price  ...  \\\n",
       "0  7c67e1448b00f6e969d365cea6b010ab  2017-05-22 15:22:12  124.99  ...   \n",
       "1  b8bc237ba3788b23da09c0f1f3a3288c  2018-01-18 20:58:32  289.00  ...   \n",
       "2  7c67e1448b00f6e969d365cea6b010ab  2018-06-05 16:19:10  139.94  ...   \n",
       "3  7c67e1448b00f6e969d365cea6b010ab  2018-03-27 16:31:16  149.94  ...   \n",
       "4  4a3ca9315b744ce9f8e9374361493884  2018-07-31 10:10:09  230.00  ...   \n",
       "\n",
       "                          review_id  review_score  \\\n",
       "0  88b8b52d46df026a9d1ad2136a59b30b           4.0   \n",
       "1  02fc48a9efa3e3d0f1a8ea26507eeec3           5.0   \n",
       "2  5ad6695d76ee186dc473c42706984d87           5.0   \n",
       "3  059a801bb31f6aab2266e672cab87bc5           5.0   \n",
       "4  8490879d58d6c5d7773f2739a03f089a           5.0   \n",
       "\n",
       "                 customer_unique_id  customer_zip_code_prefix  \\\n",
       "0  861eff4711a542e4b93843c6dd7febb0                     14409   \n",
       "1  290c77bc529b7ac935b93aa66c333dc3                      9790   \n",
       "2  060e732b5b29e8181a18229c7b0b2b5e                      1151   \n",
       "3  259dac757896d24d7702b9acbbff3f3c                      8775   \n",
       "4  345ecd01c38d18a9036ed96c73b8d066                     13056   \n",
       "\n",
       "           customer_city  customer_state  seller_zip_code_prefix  \\\n",
       "0                 franca              SP                  8577.0   \n",
       "1  sao bernardo do campo              SP                 88303.0   \n",
       "2              sao paulo              SP                  8577.0   \n",
       "3        mogi das cruzes              SP                  8577.0   \n",
       "4               campinas              SP                 14940.0   \n",
       "\n",
       "       seller_city seller_state  estimated_delivery_time  \n",
       "0  itaquaquecetuba           SP                       19  \n",
       "1           itajai           SC                       24  \n",
       "2  itaquaquecetuba           SP                       24  \n",
       "3  itaquaquecetuba           SP                       27  \n",
       "4         ibitinga           SP                       16  \n",
       "\n",
       "[5 rows x 32 columns]"
      ]
     },
     "execution_count": 40,
     "metadata": {},
     "output_type": "execute_result"
    }
   ],
   "source": [
    "df_total[\"order_purchase_timestamp\"] = pd.to_datetime(df_total[\"order_purchase_timestamp\"])\n",
    "df_total[\"order_estimated_delivery_date\"] = pd.to_datetime(df_total[\"order_estimated_delivery_date\"])\n",
    "df_total[\"estimated_delivery_time\"] = (df_total[\"order_estimated_delivery_date\"] - df_total[\"order_purchase_timestamp\"]).dt.days\n",
    "df_total.head()"
   ]
  },
  {
   "cell_type": "markdown",
   "metadata": {},
   "source": [
    "The delivery date is calculated and stored in a column for analysis\n"
   ]
  },
  {
   "cell_type": "code",
   "execution_count": 74,
   "metadata": {},
   "outputs": [
    {
     "ename": "KeyError",
     "evalue": "\"['order_estimated_delivery_date', 'shipping_limit_date'] not found in axis\"",
     "output_type": "error",
     "traceback": [
      "\u001b[1;31m---------------------------------------------------------------------------\u001b[0m",
      "\u001b[1;31mKeyError\u001b[0m                                  Traceback (most recent call last)",
      "Cell \u001b[1;32mIn[74], line 1\u001b[0m\n\u001b[1;32m----> 1\u001b[0m \u001b[43mdf_total\u001b[49m\u001b[38;5;241;43m.\u001b[39;49m\u001b[43mdrop\u001b[49m\u001b[43m(\u001b[49m\u001b[43mcolumns\u001b[49m\u001b[38;5;241;43m=\u001b[39;49m\u001b[43m[\u001b[49m\u001b[38;5;124;43m\"\u001b[39;49m\u001b[38;5;124;43morder_estimated_delivery_date\u001b[39;49m\u001b[38;5;124;43m\"\u001b[39;49m\u001b[43m,\u001b[49m\u001b[38;5;124;43m\"\u001b[39;49m\u001b[38;5;124;43mshipping_limit_date\u001b[39;49m\u001b[38;5;124;43m\"\u001b[39;49m\u001b[43m]\u001b[49m\u001b[43m,\u001b[49m\u001b[43minplace\u001b[49m\u001b[38;5;241;43m=\u001b[39;49m\u001b[38;5;28;43;01mTrue\u001b[39;49;00m\u001b[43m)\u001b[49m\n",
      "File \u001b[1;32mc:\\Users\\goh2c\\Documents\\CAIE\\CAIE\\.conda\\Lib\\site-packages\\pandas\\core\\frame.py:5581\u001b[0m, in \u001b[0;36mDataFrame.drop\u001b[1;34m(self, labels, axis, index, columns, level, inplace, errors)\u001b[0m\n\u001b[0;32m   5433\u001b[0m \u001b[38;5;28;01mdef\u001b[39;00m\u001b[38;5;250m \u001b[39m\u001b[38;5;21mdrop\u001b[39m(\n\u001b[0;32m   5434\u001b[0m     \u001b[38;5;28mself\u001b[39m,\n\u001b[0;32m   5435\u001b[0m     labels: IndexLabel \u001b[38;5;241m|\u001b[39m \u001b[38;5;28;01mNone\u001b[39;00m \u001b[38;5;241m=\u001b[39m \u001b[38;5;28;01mNone\u001b[39;00m,\n\u001b[1;32m   (...)\u001b[0m\n\u001b[0;32m   5442\u001b[0m     errors: IgnoreRaise \u001b[38;5;241m=\u001b[39m \u001b[38;5;124m\"\u001b[39m\u001b[38;5;124mraise\u001b[39m\u001b[38;5;124m\"\u001b[39m,\n\u001b[0;32m   5443\u001b[0m ) \u001b[38;5;241m-\u001b[39m\u001b[38;5;241m>\u001b[39m DataFrame \u001b[38;5;241m|\u001b[39m \u001b[38;5;28;01mNone\u001b[39;00m:\n\u001b[0;32m   5444\u001b[0m \u001b[38;5;250m    \u001b[39m\u001b[38;5;124;03m\"\"\"\u001b[39;00m\n\u001b[0;32m   5445\u001b[0m \u001b[38;5;124;03m    Drop specified labels from rows or columns.\u001b[39;00m\n\u001b[0;32m   5446\u001b[0m \n\u001b[1;32m   (...)\u001b[0m\n\u001b[0;32m   5579\u001b[0m \u001b[38;5;124;03m            weight  1.0     0.8\u001b[39;00m\n\u001b[0;32m   5580\u001b[0m \u001b[38;5;124;03m    \"\"\"\u001b[39;00m\n\u001b[1;32m-> 5581\u001b[0m     \u001b[38;5;28;01mreturn\u001b[39;00m \u001b[38;5;28;43msuper\u001b[39;49m\u001b[43m(\u001b[49m\u001b[43m)\u001b[49m\u001b[38;5;241;43m.\u001b[39;49m\u001b[43mdrop\u001b[49m\u001b[43m(\u001b[49m\n\u001b[0;32m   5582\u001b[0m \u001b[43m        \u001b[49m\u001b[43mlabels\u001b[49m\u001b[38;5;241;43m=\u001b[39;49m\u001b[43mlabels\u001b[49m\u001b[43m,\u001b[49m\n\u001b[0;32m   5583\u001b[0m \u001b[43m        \u001b[49m\u001b[43maxis\u001b[49m\u001b[38;5;241;43m=\u001b[39;49m\u001b[43maxis\u001b[49m\u001b[43m,\u001b[49m\n\u001b[0;32m   5584\u001b[0m \u001b[43m        \u001b[49m\u001b[43mindex\u001b[49m\u001b[38;5;241;43m=\u001b[39;49m\u001b[43mindex\u001b[49m\u001b[43m,\u001b[49m\n\u001b[0;32m   5585\u001b[0m \u001b[43m        \u001b[49m\u001b[43mcolumns\u001b[49m\u001b[38;5;241;43m=\u001b[39;49m\u001b[43mcolumns\u001b[49m\u001b[43m,\u001b[49m\n\u001b[0;32m   5586\u001b[0m \u001b[43m        \u001b[49m\u001b[43mlevel\u001b[49m\u001b[38;5;241;43m=\u001b[39;49m\u001b[43mlevel\u001b[49m\u001b[43m,\u001b[49m\n\u001b[0;32m   5587\u001b[0m \u001b[43m        \u001b[49m\u001b[43minplace\u001b[49m\u001b[38;5;241;43m=\u001b[39;49m\u001b[43minplace\u001b[49m\u001b[43m,\u001b[49m\n\u001b[0;32m   5588\u001b[0m \u001b[43m        \u001b[49m\u001b[43merrors\u001b[49m\u001b[38;5;241;43m=\u001b[39;49m\u001b[43merrors\u001b[49m\u001b[43m,\u001b[49m\n\u001b[0;32m   5589\u001b[0m \u001b[43m    \u001b[49m\u001b[43m)\u001b[49m\n",
      "File \u001b[1;32mc:\\Users\\goh2c\\Documents\\CAIE\\CAIE\\.conda\\Lib\\site-packages\\pandas\\core\\generic.py:4788\u001b[0m, in \u001b[0;36mNDFrame.drop\u001b[1;34m(self, labels, axis, index, columns, level, inplace, errors)\u001b[0m\n\u001b[0;32m   4786\u001b[0m \u001b[38;5;28;01mfor\u001b[39;00m axis, labels \u001b[38;5;129;01min\u001b[39;00m axes\u001b[38;5;241m.\u001b[39mitems():\n\u001b[0;32m   4787\u001b[0m     \u001b[38;5;28;01mif\u001b[39;00m labels \u001b[38;5;129;01mis\u001b[39;00m \u001b[38;5;129;01mnot\u001b[39;00m \u001b[38;5;28;01mNone\u001b[39;00m:\n\u001b[1;32m-> 4788\u001b[0m         obj \u001b[38;5;241m=\u001b[39m \u001b[43mobj\u001b[49m\u001b[38;5;241;43m.\u001b[39;49m\u001b[43m_drop_axis\u001b[49m\u001b[43m(\u001b[49m\u001b[43mlabels\u001b[49m\u001b[43m,\u001b[49m\u001b[43m \u001b[49m\u001b[43maxis\u001b[49m\u001b[43m,\u001b[49m\u001b[43m \u001b[49m\u001b[43mlevel\u001b[49m\u001b[38;5;241;43m=\u001b[39;49m\u001b[43mlevel\u001b[49m\u001b[43m,\u001b[49m\u001b[43m \u001b[49m\u001b[43merrors\u001b[49m\u001b[38;5;241;43m=\u001b[39;49m\u001b[43merrors\u001b[49m\u001b[43m)\u001b[49m\n\u001b[0;32m   4790\u001b[0m \u001b[38;5;28;01mif\u001b[39;00m inplace:\n\u001b[0;32m   4791\u001b[0m     \u001b[38;5;28mself\u001b[39m\u001b[38;5;241m.\u001b[39m_update_inplace(obj)\n",
      "File \u001b[1;32mc:\\Users\\goh2c\\Documents\\CAIE\\CAIE\\.conda\\Lib\\site-packages\\pandas\\core\\generic.py:4830\u001b[0m, in \u001b[0;36mNDFrame._drop_axis\u001b[1;34m(self, labels, axis, level, errors, only_slice)\u001b[0m\n\u001b[0;32m   4828\u001b[0m         new_axis \u001b[38;5;241m=\u001b[39m axis\u001b[38;5;241m.\u001b[39mdrop(labels, level\u001b[38;5;241m=\u001b[39mlevel, errors\u001b[38;5;241m=\u001b[39merrors)\n\u001b[0;32m   4829\u001b[0m     \u001b[38;5;28;01melse\u001b[39;00m:\n\u001b[1;32m-> 4830\u001b[0m         new_axis \u001b[38;5;241m=\u001b[39m \u001b[43maxis\u001b[49m\u001b[38;5;241;43m.\u001b[39;49m\u001b[43mdrop\u001b[49m\u001b[43m(\u001b[49m\u001b[43mlabels\u001b[49m\u001b[43m,\u001b[49m\u001b[43m \u001b[49m\u001b[43merrors\u001b[49m\u001b[38;5;241;43m=\u001b[39;49m\u001b[43merrors\u001b[49m\u001b[43m)\u001b[49m\n\u001b[0;32m   4831\u001b[0m     indexer \u001b[38;5;241m=\u001b[39m axis\u001b[38;5;241m.\u001b[39mget_indexer(new_axis)\n\u001b[0;32m   4833\u001b[0m \u001b[38;5;66;03m# Case for non-unique axis\u001b[39;00m\n\u001b[0;32m   4834\u001b[0m \u001b[38;5;28;01melse\u001b[39;00m:\n",
      "File \u001b[1;32mc:\\Users\\goh2c\\Documents\\CAIE\\CAIE\\.conda\\Lib\\site-packages\\pandas\\core\\indexes\\base.py:7070\u001b[0m, in \u001b[0;36mIndex.drop\u001b[1;34m(self, labels, errors)\u001b[0m\n\u001b[0;32m   7068\u001b[0m \u001b[38;5;28;01mif\u001b[39;00m mask\u001b[38;5;241m.\u001b[39many():\n\u001b[0;32m   7069\u001b[0m     \u001b[38;5;28;01mif\u001b[39;00m errors \u001b[38;5;241m!=\u001b[39m \u001b[38;5;124m\"\u001b[39m\u001b[38;5;124mignore\u001b[39m\u001b[38;5;124m\"\u001b[39m:\n\u001b[1;32m-> 7070\u001b[0m         \u001b[38;5;28;01mraise\u001b[39;00m \u001b[38;5;167;01mKeyError\u001b[39;00m(\u001b[38;5;124mf\u001b[39m\u001b[38;5;124m\"\u001b[39m\u001b[38;5;132;01m{\u001b[39;00mlabels[mask]\u001b[38;5;241m.\u001b[39mtolist()\u001b[38;5;132;01m}\u001b[39;00m\u001b[38;5;124m not found in axis\u001b[39m\u001b[38;5;124m\"\u001b[39m)\n\u001b[0;32m   7071\u001b[0m     indexer \u001b[38;5;241m=\u001b[39m indexer[\u001b[38;5;241m~\u001b[39mmask]\n\u001b[0;32m   7072\u001b[0m \u001b[38;5;28;01mreturn\u001b[39;00m \u001b[38;5;28mself\u001b[39m\u001b[38;5;241m.\u001b[39mdelete(indexer)\n",
      "\u001b[1;31mKeyError\u001b[0m: \"['order_estimated_delivery_date', 'shipping_limit_date'] not found in axis\""
     ]
    }
   ],
   "source": [
    "df_total.drop(columns=[\"order_estimated_delivery_date\",\"shipping_limit_date\"],inplace=True)"
   ]
  },
  {
   "cell_type": "markdown",
   "metadata": {},
   "source": [
    "Some columns are not required for analysis and will be dropped"
   ]
  },
  {
   "cell_type": "markdown",
   "metadata": {},
   "source": [
    "# Start of EDA\n"
   ]
  },
  {
   "cell_type": "markdown",
   "metadata": {},
   "source": [
    "To predict Repeat Buyer, we would be calculating the Customer Lifetime Value (CLV) which present value of the future (net) cash flows associated with the customer. The primary goal of this EDA is to analysis the dataset and how the features affect the Customer Lifetime Value.\n",
    "\n"
   ]
  },
  {
   "cell_type": "code",
   "execution_count": 42,
   "metadata": {},
   "outputs": [
    {
     "data": {
      "text/plain": [
       "Index(['order_id', 'customer_id', 'order_status', 'order_purchase_timestamp',\n",
       "       'order_item_id', 'product_id', 'seller_id', 'price', 'freight_value',\n",
       "       'product_name_lenght', 'product_description_lenght',\n",
       "       'product_photos_qty', 'product_weight_g', 'product_length_cm',\n",
       "       'product_height_cm', 'product_width_cm',\n",
       "       'product_category_name_english', 'total_value', 'vouchers_used',\n",
       "       'payment_type', 'review_id', 'review_score', 'customer_unique_id',\n",
       "       'customer_zip_code_prefix', 'customer_city', 'customer_state',\n",
       "       'seller_zip_code_prefix', 'seller_city', 'seller_state',\n",
       "       'estimated_delivery_time'],\n",
       "      dtype='object')"
      ]
     },
     "execution_count": 42,
     "metadata": {},
     "output_type": "execute_result"
    }
   ],
   "source": [
    "df_total.columns"
   ]
  },
  {
   "cell_type": "code",
   "execution_count": null,
   "metadata": {},
   "outputs": [
    {
     "data": {
      "text/html": [
       "<div>\n",
       "<style scoped>\n",
       "    .dataframe tbody tr th:only-of-type {\n",
       "        vertical-align: middle;\n",
       "    }\n",
       "\n",
       "    .dataframe tbody tr th {\n",
       "        vertical-align: top;\n",
       "    }\n",
       "\n",
       "    .dataframe thead th {\n",
       "        text-align: right;\n",
       "    }\n",
       "</style>\n",
       "<table border=\"1\" class=\"dataframe\">\n",
       "  <thead>\n",
       "    <tr style=\"text-align: right;\">\n",
       "      <th></th>\n",
       "      <th>order_purchase_timestamp</th>\n",
       "      <th>order_item_id</th>\n",
       "      <th>price</th>\n",
       "      <th>freight_value</th>\n",
       "      <th>product_name_lenght</th>\n",
       "      <th>product_description_lenght</th>\n",
       "      <th>product_photos_qty</th>\n",
       "      <th>product_weight_g</th>\n",
       "      <th>product_length_cm</th>\n",
       "      <th>product_height_cm</th>\n",
       "      <th>product_width_cm</th>\n",
       "      <th>total_value</th>\n",
       "      <th>vouchers_used</th>\n",
       "      <th>review_score</th>\n",
       "      <th>customer_zip_code_prefix</th>\n",
       "      <th>seller_zip_code_prefix</th>\n",
       "      <th>estimated_delivery_time</th>\n",
       "    </tr>\n",
       "  </thead>\n",
       "  <tbody>\n",
       "    <tr>\n",
       "      <th>count</th>\n",
       "      <td>112647</td>\n",
       "      <td>112647.000000</td>\n",
       "      <td>112647.000000</td>\n",
       "      <td>112647.000000</td>\n",
       "      <td>112647.000000</td>\n",
       "      <td>112647.000000</td>\n",
       "      <td>112647.00000</td>\n",
       "      <td>112647.000000</td>\n",
       "      <td>112647.000000</td>\n",
       "      <td>112647.000000</td>\n",
       "      <td>112647.000000</td>\n",
       "      <td>112647.000000</td>\n",
       "      <td>112647.000000</td>\n",
       "      <td>112647.000000</td>\n",
       "      <td>112647.000000</td>\n",
       "      <td>112647.000000</td>\n",
       "      <td>112647.000000</td>\n",
       "    </tr>\n",
       "    <tr>\n",
       "      <th>mean</th>\n",
       "      <td>2018-01-01 00:27:55.672836608</td>\n",
       "      <td>1.197813</td>\n",
       "      <td>120.655754</td>\n",
       "      <td>19.990777</td>\n",
       "      <td>48.082275</td>\n",
       "      <td>776.648841</td>\n",
       "      <td>2.17830</td>\n",
       "      <td>2093.366623</td>\n",
       "      <td>30.149227</td>\n",
       "      <td>16.591130</td>\n",
       "      <td>22.993058</td>\n",
       "      <td>180.281186</td>\n",
       "      <td>0.024697</td>\n",
       "      <td>3.999086</td>\n",
       "      <td>35119.855558</td>\n",
       "      <td>24437.642538</td>\n",
       "      <td>23.470629</td>\n",
       "    </tr>\n",
       "    <tr>\n",
       "      <th>min</th>\n",
       "      <td>2016-09-04 21:15:19</td>\n",
       "      <td>1.000000</td>\n",
       "      <td>0.850000</td>\n",
       "      <td>0.000000</td>\n",
       "      <td>0.000000</td>\n",
       "      <td>0.000000</td>\n",
       "      <td>0.00000</td>\n",
       "      <td>0.000000</td>\n",
       "      <td>0.000000</td>\n",
       "      <td>0.000000</td>\n",
       "      <td>0.000000</td>\n",
       "      <td>9.590000</td>\n",
       "      <td>0.000000</td>\n",
       "      <td>0.000000</td>\n",
       "      <td>1003.000000</td>\n",
       "      <td>1001.000000</td>\n",
       "      <td>2.000000</td>\n",
       "    </tr>\n",
       "    <tr>\n",
       "      <th>25%</th>\n",
       "      <td>2017-09-13 19:30:25.500000</td>\n",
       "      <td>1.000000</td>\n",
       "      <td>39.900000</td>\n",
       "      <td>13.080000</td>\n",
       "      <td>42.000000</td>\n",
       "      <td>341.000000</td>\n",
       "      <td>1.00000</td>\n",
       "      <td>300.000000</td>\n",
       "      <td>18.000000</td>\n",
       "      <td>8.000000</td>\n",
       "      <td>15.000000</td>\n",
       "      <td>65.670000</td>\n",
       "      <td>0.000000</td>\n",
       "      <td>3.000000</td>\n",
       "      <td>11310.000000</td>\n",
       "      <td>6429.000000</td>\n",
       "      <td>18.000000</td>\n",
       "    </tr>\n",
       "    <tr>\n",
       "      <th>50%</th>\n",
       "      <td>2018-01-19 23:02:16</td>\n",
       "      <td>1.000000</td>\n",
       "      <td>74.990000</td>\n",
       "      <td>16.260000</td>\n",
       "      <td>51.000000</td>\n",
       "      <td>595.000000</td>\n",
       "      <td>1.00000</td>\n",
       "      <td>700.000000</td>\n",
       "      <td>25.000000</td>\n",
       "      <td>13.000000</td>\n",
       "      <td>20.000000</td>\n",
       "      <td>114.440000</td>\n",
       "      <td>0.000000</td>\n",
       "      <td>5.000000</td>\n",
       "      <td>24340.000000</td>\n",
       "      <td>13568.000000</td>\n",
       "      <td>23.000000</td>\n",
       "    </tr>\n",
       "    <tr>\n",
       "      <th>75%</th>\n",
       "      <td>2018-05-04 17:32:16</td>\n",
       "      <td>1.000000</td>\n",
       "      <td>134.900000</td>\n",
       "      <td>21.150000</td>\n",
       "      <td>57.000000</td>\n",
       "      <td>981.000000</td>\n",
       "      <td>3.00000</td>\n",
       "      <td>1800.000000</td>\n",
       "      <td>38.000000</td>\n",
       "      <td>20.000000</td>\n",
       "      <td>30.000000</td>\n",
       "      <td>195.390000</td>\n",
       "      <td>0.000000</td>\n",
       "      <td>5.000000</td>\n",
       "      <td>59030.000000</td>\n",
       "      <td>27930.000000</td>\n",
       "      <td>28.000000</td>\n",
       "    </tr>\n",
       "    <tr>\n",
       "      <th>max</th>\n",
       "      <td>2018-09-03 09:06:57</td>\n",
       "      <td>21.000000</td>\n",
       "      <td>6735.000000</td>\n",
       "      <td>409.680000</td>\n",
       "      <td>76.000000</td>\n",
       "      <td>3992.000000</td>\n",
       "      <td>20.00000</td>\n",
       "      <td>40425.000000</td>\n",
       "      <td>105.000000</td>\n",
       "      <td>105.000000</td>\n",
       "      <td>118.000000</td>\n",
       "      <td>13664.080000</td>\n",
       "      <td>29.000000</td>\n",
       "      <td>5.000000</td>\n",
       "      <td>99990.000000</td>\n",
       "      <td>99730.000000</td>\n",
       "      <td>155.000000</td>\n",
       "    </tr>\n",
       "    <tr>\n",
       "      <th>std</th>\n",
       "      <td>NaN</td>\n",
       "      <td>0.705109</td>\n",
       "      <td>183.635958</td>\n",
       "      <td>15.806368</td>\n",
       "      <td>11.508828</td>\n",
       "      <td>654.175875</td>\n",
       "      <td>1.72908</td>\n",
       "      <td>3751.436193</td>\n",
       "      <td>16.156705</td>\n",
       "      <td>13.444224</td>\n",
       "      <td>11.710041</td>\n",
       "      <td>272.849042</td>\n",
       "      <td>0.301316</td>\n",
       "      <td>1.429656</td>\n",
       "      <td>29866.330769</td>\n",
       "      <td>27594.810088</td>\n",
       "      <td>8.884945</td>\n",
       "    </tr>\n",
       "  </tbody>\n",
       "</table>\n",
       "</div>"
      ],
      "text/plain": [
       "            order_purchase_timestamp  order_item_id          price  \\\n",
       "count                         112647  112647.000000  112647.000000   \n",
       "mean   2018-01-01 00:27:55.672836608       1.197813     120.655754   \n",
       "min              2016-09-04 21:15:19       1.000000       0.850000   \n",
       "25%       2017-09-13 19:30:25.500000       1.000000      39.900000   \n",
       "50%              2018-01-19 23:02:16       1.000000      74.990000   \n",
       "75%              2018-05-04 17:32:16       1.000000     134.900000   \n",
       "max              2018-09-03 09:06:57      21.000000    6735.000000   \n",
       "std                              NaN       0.705109     183.635958   \n",
       "\n",
       "       freight_value  product_name_lenght  product_description_lenght  \\\n",
       "count  112647.000000        112647.000000               112647.000000   \n",
       "mean       19.990777            48.082275                  776.648841   \n",
       "min         0.000000             0.000000                    0.000000   \n",
       "25%        13.080000            42.000000                  341.000000   \n",
       "50%        16.260000            51.000000                  595.000000   \n",
       "75%        21.150000            57.000000                  981.000000   \n",
       "max       409.680000            76.000000                 3992.000000   \n",
       "std        15.806368            11.508828                  654.175875   \n",
       "\n",
       "       product_photos_qty  product_weight_g  product_length_cm  \\\n",
       "count        112647.00000     112647.000000      112647.000000   \n",
       "mean              2.17830       2093.366623          30.149227   \n",
       "min               0.00000          0.000000           0.000000   \n",
       "25%               1.00000        300.000000          18.000000   \n",
       "50%               1.00000        700.000000          25.000000   \n",
       "75%               3.00000       1800.000000          38.000000   \n",
       "max              20.00000      40425.000000         105.000000   \n",
       "std               1.72908       3751.436193          16.156705   \n",
       "\n",
       "       product_height_cm  product_width_cm    total_value  vouchers_used  \\\n",
       "count      112647.000000     112647.000000  112647.000000  112647.000000   \n",
       "mean           16.591130         22.993058     180.281186       0.024697   \n",
       "min             0.000000          0.000000       9.590000       0.000000   \n",
       "25%             8.000000         15.000000      65.670000       0.000000   \n",
       "50%            13.000000         20.000000     114.440000       0.000000   \n",
       "75%            20.000000         30.000000     195.390000       0.000000   \n",
       "max           105.000000        118.000000   13664.080000      29.000000   \n",
       "std            13.444224         11.710041     272.849042       0.301316   \n",
       "\n",
       "        review_score  customer_zip_code_prefix  seller_zip_code_prefix  \\\n",
       "count  112647.000000             112647.000000           112647.000000   \n",
       "mean        3.999086              35119.855558            24437.642538   \n",
       "min         0.000000               1003.000000             1001.000000   \n",
       "25%         3.000000              11310.000000             6429.000000   \n",
       "50%         5.000000              24340.000000            13568.000000   \n",
       "75%         5.000000              59030.000000            27930.000000   \n",
       "max         5.000000              99990.000000            99730.000000   \n",
       "std         1.429656              29866.330769            27594.810088   \n",
       "\n",
       "       estimated_delivery_time  \n",
       "count            112647.000000  \n",
       "mean                 23.470629  \n",
       "min                   2.000000  \n",
       "25%                  18.000000  \n",
       "50%                  23.000000  \n",
       "75%                  28.000000  \n",
       "max                 155.000000  \n",
       "std                   8.884945  "
      ]
     },
     "execution_count": 43,
     "metadata": {},
     "output_type": "execute_result"
    }
   ],
   "source": [
    "df_total.describe()"
   ]
  },
  {
   "cell_type": "code",
   "execution_count": null,
   "metadata": {},
   "outputs": [
    {
     "data": {
      "image/png": "[encoded data removed]",
      "text/plain": [
       "<Figure size 640x480 with 2 Axes>"
      ]
     },
     "metadata": {},
     "output_type": "display_data"
    }
   ],
   "source": [
    "list1 = [ 'freight_value', 'product_name_lenght', 'product_description_lenght',\n",
    "       'product_photos_qty', 'product_weight_g', 'product_length_cm', 'product_height_cm', 'product_width_cm', 'total_value', 'vouchers_used', 'estimated_delivery_time']\n",
    "sns.heatmap(df_total[list1].corr(), annot = True, fmt = \".2f\")\n",
    "plt.show()\n"
   ]
  },
  {
   "cell_type": "markdown",
   "metadata": {},
   "source": [
    "From the heatmap we can infer:\n",
    "\n",
    "*   The frieght cost increases with the product size, weight and the estimated delivery time\n",
    "*   The total cost have a similar relation\n"
   ]
  },
  {
   "cell_type": "code",
   "execution_count": 95,
   "metadata": {},
   "outputs": [
    {
     "data": {
      "text/html": [
       "<div>\n",
       "<style scoped>\n",
       "    .dataframe tbody tr th:only-of-type {\n",
       "        vertical-align: middle;\n",
       "    }\n",
       "\n",
       "    .dataframe tbody tr th {\n",
       "        vertical-align: top;\n",
       "    }\n",
       "\n",
       "    .dataframe thead th {\n",
       "        text-align: right;\n",
       "    }\n",
       "</style>\n",
       "<table border=\"1\" class=\"dataframe\">\n",
       "  <thead>\n",
       "    <tr style=\"text-align: right;\">\n",
       "      <th></th>\n",
       "      <th>customer_unique_id</th>\n",
       "      <th>no_of_repeat</th>\n",
       "    </tr>\n",
       "  </thead>\n",
       "  <tbody>\n",
       "    <tr>\n",
       "      <th>7</th>\n",
       "      <td>00053a61a98854899e70ed204dd4bafe</td>\n",
       "      <td>1</td>\n",
       "    </tr>\n",
       "    <tr>\n",
       "      <th>18</th>\n",
       "      <td>000de6019bb59f34c099a907c151d855</td>\n",
       "      <td>1</td>\n",
       "    </tr>\n",
       "    <tr>\n",
       "      <th>22</th>\n",
       "      <td>000fbf0473c10fc1ab6f8d2d286ce20c</td>\n",
       "      <td>3</td>\n",
       "    </tr>\n",
       "    <tr>\n",
       "      <th>25</th>\n",
       "      <td>001147e649a7b1afd577e873841632dd</td>\n",
       "      <td>1</td>\n",
       "    </tr>\n",
       "    <tr>\n",
       "      <th>32</th>\n",
       "      <td>0015752e079902b12cd00b9b7596276b</td>\n",
       "      <td>1</td>\n",
       "    </tr>\n",
       "  </tbody>\n",
       "</table>\n",
       "</div>"
      ],
      "text/plain": [
       "                  customer_unique_id  no_of_repeat\n",
       "7   00053a61a98854899e70ed204dd4bafe             1\n",
       "18  000de6019bb59f34c099a907c151d855             1\n",
       "22  000fbf0473c10fc1ab6f8d2d286ce20c             3\n",
       "25  001147e649a7b1afd577e873841632dd             1\n",
       "32  0015752e079902b12cd00b9b7596276b             1"
      ]
     },
     "execution_count": 95,
     "metadata": {},
     "output_type": "execute_result"
    }
   ],
   "source": [
    "repeat_buyer = df_total.groupby('customer_unique_id').agg(\n",
    "    no_of_repeat=('customer_unique_id', 'count')\n",
    ").reset_index()\n",
    "repeat_buyer['no_of_repeat'] = repeat_buyer['no_of_repeat'] - 1\n",
    "\n",
    "\n",
    "repeat_buyer[repeat_buyer['no_of_repeat']>0].head()"
   ]
  },
  {
   "cell_type": "code",
   "execution_count": 96,
   "metadata": {},
   "outputs": [
    {
     "data": {
      "text/html": [
       "<div>\n",
       "<style scoped>\n",
       "    .dataframe tbody tr th:only-of-type {\n",
       "        vertical-align: middle;\n",
       "    }\n",
       "\n",
       "    .dataframe tbody tr th {\n",
       "        vertical-align: top;\n",
       "    }\n",
       "\n",
       "    .dataframe thead th {\n",
       "        text-align: right;\n",
       "    }\n",
       "</style>\n",
       "<table border=\"1\" class=\"dataframe\">\n",
       "  <thead>\n",
       "    <tr style=\"text-align: right;\">\n",
       "      <th></th>\n",
       "      <th>order_id</th>\n",
       "      <th>customer_id</th>\n",
       "      <th>order_status</th>\n",
       "      <th>order_purchase_timestamp</th>\n",
       "      <th>order_estimated_delivery_date</th>\n",
       "      <th>order_item_id</th>\n",
       "      <th>product_id</th>\n",
       "      <th>seller_id</th>\n",
       "      <th>shipping_limit_date</th>\n",
       "      <th>price</th>\n",
       "      <th>...</th>\n",
       "      <th>review_id</th>\n",
       "      <th>review_score</th>\n",
       "      <th>customer_unique_id</th>\n",
       "      <th>customer_zip_code_prefix</th>\n",
       "      <th>customer_city</th>\n",
       "      <th>customer_state</th>\n",
       "      <th>seller_zip_code_prefix</th>\n",
       "      <th>seller_city</th>\n",
       "      <th>seller_state</th>\n",
       "      <th>no_of_repeat</th>\n",
       "    </tr>\n",
       "  </thead>\n",
       "  <tbody>\n",
       "    <tr>\n",
       "      <th>0</th>\n",
       "      <td>00e7ee1b050b8499577073aeb2a297a1</td>\n",
       "      <td>06b8999e2fba1a1fbc88172c00ba8bc7</td>\n",
       "      <td>delivered</td>\n",
       "      <td>2017-05-16 15:05:35</td>\n",
       "      <td>2017-06-05 00:00:00</td>\n",
       "      <td>1.0</td>\n",
       "      <td>a9516a079e37a9c9c36b9b78b10169e8</td>\n",
       "      <td>7c67e1448b00f6e969d365cea6b010ab</td>\n",
       "      <td>2017-05-22 15:22:12</td>\n",
       "      <td>124.99</td>\n",
       "      <td>...</td>\n",
       "      <td>88b8b52d46df026a9d1ad2136a59b30b</td>\n",
       "      <td>4.0</td>\n",
       "      <td>861eff4711a542e4b93843c6dd7febb0</td>\n",
       "      <td>14409</td>\n",
       "      <td>franca</td>\n",
       "      <td>SP</td>\n",
       "      <td>8577.0</td>\n",
       "      <td>itaquaquecetuba</td>\n",
       "      <td>SP</td>\n",
       "      <td>0</td>\n",
       "    </tr>\n",
       "    <tr>\n",
       "      <th>1</th>\n",
       "      <td>29150127e6685892b6eab3eec79f59c7</td>\n",
       "      <td>18955e83d337fd6b2def6b18a428ac77</td>\n",
       "      <td>delivered</td>\n",
       "      <td>2018-01-12 20:48:24</td>\n",
       "      <td>2018-02-06 00:00:00</td>\n",
       "      <td>1.0</td>\n",
       "      <td>4aa6014eceb682077f9dc4bffebc05b0</td>\n",
       "      <td>b8bc237ba3788b23da09c0f1f3a3288c</td>\n",
       "      <td>2018-01-18 20:58:32</td>\n",
       "      <td>289.00</td>\n",
       "      <td>...</td>\n",
       "      <td>02fc48a9efa3e3d0f1a8ea26507eeec3</td>\n",
       "      <td>5.0</td>\n",
       "      <td>290c77bc529b7ac935b93aa66c333dc3</td>\n",
       "      <td>9790</td>\n",
       "      <td>sao bernardo do campo</td>\n",
       "      <td>SP</td>\n",
       "      <td>88303.0</td>\n",
       "      <td>itajai</td>\n",
       "      <td>SC</td>\n",
       "      <td>0</td>\n",
       "    </tr>\n",
       "    <tr>\n",
       "      <th>2</th>\n",
       "      <td>b2059ed67ce144a36e2aa97d2c9e9ad2</td>\n",
       "      <td>4e7b3e00288586ebd08712fdd0374a03</td>\n",
       "      <td>delivered</td>\n",
       "      <td>2018-05-19 16:07:45</td>\n",
       "      <td>2018-06-13 00:00:00</td>\n",
       "      <td>1.0</td>\n",
       "      <td>bd07b66896d6f1494f5b86251848ced7</td>\n",
       "      <td>7c67e1448b00f6e969d365cea6b010ab</td>\n",
       "      <td>2018-06-05 16:19:10</td>\n",
       "      <td>139.94</td>\n",
       "      <td>...</td>\n",
       "      <td>5ad6695d76ee186dc473c42706984d87</td>\n",
       "      <td>5.0</td>\n",
       "      <td>060e732b5b29e8181a18229c7b0b2b5e</td>\n",
       "      <td>1151</td>\n",
       "      <td>sao paulo</td>\n",
       "      <td>SP</td>\n",
       "      <td>8577.0</td>\n",
       "      <td>itaquaquecetuba</td>\n",
       "      <td>SP</td>\n",
       "      <td>0</td>\n",
       "    </tr>\n",
       "    <tr>\n",
       "      <th>3</th>\n",
       "      <td>951670f92359f4fe4a63112aa7306eba</td>\n",
       "      <td>b2b6027bc5c5109e529d4dc6358b12c3</td>\n",
       "      <td>delivered</td>\n",
       "      <td>2018-03-13 16:06:38</td>\n",
       "      <td>2018-04-10 00:00:00</td>\n",
       "      <td>1.0</td>\n",
       "      <td>a5647c44af977b148e0a3a4751a09e2e</td>\n",
       "      <td>7c67e1448b00f6e969d365cea6b010ab</td>\n",
       "      <td>2018-03-27 16:31:16</td>\n",
       "      <td>149.94</td>\n",
       "      <td>...</td>\n",
       "      <td>059a801bb31f6aab2266e672cab87bc5</td>\n",
       "      <td>5.0</td>\n",
       "      <td>259dac757896d24d7702b9acbbff3f3c</td>\n",
       "      <td>8775</td>\n",
       "      <td>mogi das cruzes</td>\n",
       "      <td>SP</td>\n",
       "      <td>8577.0</td>\n",
       "      <td>itaquaquecetuba</td>\n",
       "      <td>SP</td>\n",
       "      <td>0</td>\n",
       "    </tr>\n",
       "    <tr>\n",
       "      <th>4</th>\n",
       "      <td>6b7d50bd145f6fc7f33cebabd7e49d0f</td>\n",
       "      <td>4f2d8ab171c80ec8364f7c12e35b23ad</td>\n",
       "      <td>delivered</td>\n",
       "      <td>2018-07-29 09:51:30</td>\n",
       "      <td>2018-08-15 00:00:00</td>\n",
       "      <td>1.0</td>\n",
       "      <td>9391a573abe00141c56e38d84d7d5b3b</td>\n",
       "      <td>4a3ca9315b744ce9f8e9374361493884</td>\n",
       "      <td>2018-07-31 10:10:09</td>\n",
       "      <td>230.00</td>\n",
       "      <td>...</td>\n",
       "      <td>8490879d58d6c5d7773f2739a03f089a</td>\n",
       "      <td>5.0</td>\n",
       "      <td>345ecd01c38d18a9036ed96c73b8d066</td>\n",
       "      <td>13056</td>\n",
       "      <td>campinas</td>\n",
       "      <td>SP</td>\n",
       "      <td>14940.0</td>\n",
       "      <td>ibitinga</td>\n",
       "      <td>SP</td>\n",
       "      <td>0</td>\n",
       "    </tr>\n",
       "  </tbody>\n",
       "</table>\n",
       "<p>5 rows × 32 columns</p>\n",
       "</div>"
      ],
      "text/plain": [
       "                           order_id                       customer_id  \\\n",
       "0  00e7ee1b050b8499577073aeb2a297a1  06b8999e2fba1a1fbc88172c00ba8bc7   \n",
       "1  29150127e6685892b6eab3eec79f59c7  18955e83d337fd6b2def6b18a428ac77   \n",
       "2  b2059ed67ce144a36e2aa97d2c9e9ad2  4e7b3e00288586ebd08712fdd0374a03   \n",
       "3  951670f92359f4fe4a63112aa7306eba  b2b6027bc5c5109e529d4dc6358b12c3   \n",
       "4  6b7d50bd145f6fc7f33cebabd7e49d0f  4f2d8ab171c80ec8364f7c12e35b23ad   \n",
       "\n",
       "  order_status order_purchase_timestamp order_estimated_delivery_date  \\\n",
       "0    delivered      2017-05-16 15:05:35           2017-06-05 00:00:00   \n",
       "1    delivered      2018-01-12 20:48:24           2018-02-06 00:00:00   \n",
       "2    delivered      2018-05-19 16:07:45           2018-06-13 00:00:00   \n",
       "3    delivered      2018-03-13 16:06:38           2018-04-10 00:00:00   \n",
       "4    delivered      2018-07-29 09:51:30           2018-08-15 00:00:00   \n",
       "\n",
       "   order_item_id                        product_id  \\\n",
       "0            1.0  a9516a079e37a9c9c36b9b78b10169e8   \n",
       "1            1.0  4aa6014eceb682077f9dc4bffebc05b0   \n",
       "2            1.0  bd07b66896d6f1494f5b86251848ced7   \n",
       "3            1.0  a5647c44af977b148e0a3a4751a09e2e   \n",
       "4            1.0  9391a573abe00141c56e38d84d7d5b3b   \n",
       "\n",
       "                          seller_id  shipping_limit_date   price  ...  \\\n",
       "0  7c67e1448b00f6e969d365cea6b010ab  2017-05-22 15:22:12  124.99  ...   \n",
       "1  b8bc237ba3788b23da09c0f1f3a3288c  2018-01-18 20:58:32  289.00  ...   \n",
       "2  7c67e1448b00f6e969d365cea6b010ab  2018-06-05 16:19:10  139.94  ...   \n",
       "3  7c67e1448b00f6e969d365cea6b010ab  2018-03-27 16:31:16  149.94  ...   \n",
       "4  4a3ca9315b744ce9f8e9374361493884  2018-07-31 10:10:09  230.00  ...   \n",
       "\n",
       "                          review_id  review_score  \\\n",
       "0  88b8b52d46df026a9d1ad2136a59b30b           4.0   \n",
       "1  02fc48a9efa3e3d0f1a8ea26507eeec3           5.0   \n",
       "2  5ad6695d76ee186dc473c42706984d87           5.0   \n",
       "3  059a801bb31f6aab2266e672cab87bc5           5.0   \n",
       "4  8490879d58d6c5d7773f2739a03f089a           5.0   \n",
       "\n",
       "                 customer_unique_id  customer_zip_code_prefix  \\\n",
       "0  861eff4711a542e4b93843c6dd7febb0                     14409   \n",
       "1  290c77bc529b7ac935b93aa66c333dc3                      9790   \n",
       "2  060e732b5b29e8181a18229c7b0b2b5e                      1151   \n",
       "3  259dac757896d24d7702b9acbbff3f3c                      8775   \n",
       "4  345ecd01c38d18a9036ed96c73b8d066                     13056   \n",
       "\n",
       "           customer_city  customer_state  seller_zip_code_prefix  \\\n",
       "0                 franca              SP                  8577.0   \n",
       "1  sao bernardo do campo              SP                 88303.0   \n",
       "2              sao paulo              SP                  8577.0   \n",
       "3        mogi das cruzes              SP                  8577.0   \n",
       "4               campinas              SP                 14940.0   \n",
       "\n",
       "       seller_city seller_state  no_of_repeat  \n",
       "0  itaquaquecetuba           SP             0  \n",
       "1           itajai           SC             0  \n",
       "2  itaquaquecetuba           SP             0  \n",
       "3  itaquaquecetuba           SP             0  \n",
       "4         ibitinga           SP             0  \n",
       "\n",
       "[5 rows x 32 columns]"
      ]
     },
     "execution_count": 96,
     "metadata": {},
     "output_type": "execute_result"
    }
   ],
   "source": [
    "df_total = pd.merge(df_total,repeat_buyer, on='customer_unique_id', how='left')\n",
    "df_total.head()"
   ]
  },
  {
   "cell_type": "markdown",
   "metadata": {},
   "source": [
    "This would give us a column to indicate which customers are repeat buyers"
   ]
  },
  {
   "cell_type": "markdown",
   "metadata": {},
   "source": [
    "## Number of Repeat Buyer"
   ]
  },
  {
   "cell_type": "code",
   "execution_count": 98,
   "metadata": {},
   "outputs": [
    {
     "data": {
      "text/html": [
       "<div>\n",
       "<style scoped>\n",
       "    .dataframe tbody tr th:only-of-type {\n",
       "        vertical-align: middle;\n",
       "    }\n",
       "\n",
       "    .dataframe tbody tr th {\n",
       "        vertical-align: top;\n",
       "    }\n",
       "\n",
       "    .dataframe thead th {\n",
       "        text-align: right;\n",
       "    }\n",
       "</style>\n",
       "<table border=\"1\" class=\"dataframe\">\n",
       "  <thead>\n",
       "    <tr style=\"text-align: right;\">\n",
       "      <th></th>\n",
       "      <th>customer_unique_id</th>\n",
       "      <th>no_of_repeat</th>\n",
       "    </tr>\n",
       "  </thead>\n",
       "  <tbody>\n",
       "    <tr>\n",
       "      <th>0</th>\n",
       "      <td>0000366f3b9a7992bf8c76cfdf3221e2</td>\n",
       "      <td>0</td>\n",
       "    </tr>\n",
       "    <tr>\n",
       "      <th>1</th>\n",
       "      <td>0000b849f77a49e4a4ce2b2a4ca5be3f</td>\n",
       "      <td>0</td>\n",
       "    </tr>\n",
       "    <tr>\n",
       "      <th>2</th>\n",
       "      <td>0000f46a3911fa3c0805444483337064</td>\n",
       "      <td>0</td>\n",
       "    </tr>\n",
       "    <tr>\n",
       "      <th>3</th>\n",
       "      <td>0000f6ccb0745a6a4b88665a16c9f078</td>\n",
       "      <td>0</td>\n",
       "    </tr>\n",
       "    <tr>\n",
       "      <th>4</th>\n",
       "      <td>0004aac84e0df4da2b147fca70cf8255</td>\n",
       "      <td>0</td>\n",
       "    </tr>\n",
       "    <tr>\n",
       "      <th>...</th>\n",
       "      <td>...</td>\n",
       "      <td>...</td>\n",
       "    </tr>\n",
       "    <tr>\n",
       "      <th>95415</th>\n",
       "      <td>fffcf5a5ff07b0908bd4e2dbc735a684</td>\n",
       "      <td>1</td>\n",
       "    </tr>\n",
       "    <tr>\n",
       "      <th>95416</th>\n",
       "      <td>fffea47cd6d3cc0a88bd621562a9d061</td>\n",
       "      <td>0</td>\n",
       "    </tr>\n",
       "    <tr>\n",
       "      <th>95417</th>\n",
       "      <td>ffff371b4d645b6ecea244b27531430a</td>\n",
       "      <td>0</td>\n",
       "    </tr>\n",
       "    <tr>\n",
       "      <th>95418</th>\n",
       "      <td>ffff5962728ec6157033ef9805bacc48</td>\n",
       "      <td>0</td>\n",
       "    </tr>\n",
       "    <tr>\n",
       "      <th>95419</th>\n",
       "      <td>ffffd2657e2aad2907e67c3e9daecbeb</td>\n",
       "      <td>0</td>\n",
       "    </tr>\n",
       "  </tbody>\n",
       "</table>\n",
       "<p>95420 rows × 2 columns</p>\n",
       "</div>"
      ],
      "text/plain": [
       "                     customer_unique_id  no_of_repeat\n",
       "0      0000366f3b9a7992bf8c76cfdf3221e2             0\n",
       "1      0000b849f77a49e4a4ce2b2a4ca5be3f             0\n",
       "2      0000f46a3911fa3c0805444483337064             0\n",
       "3      0000f6ccb0745a6a4b88665a16c9f078             0\n",
       "4      0004aac84e0df4da2b147fca70cf8255             0\n",
       "...                                 ...           ...\n",
       "95415  fffcf5a5ff07b0908bd4e2dbc735a684             1\n",
       "95416  fffea47cd6d3cc0a88bd621562a9d061             0\n",
       "95417  ffff371b4d645b6ecea244b27531430a             0\n",
       "95418  ffff5962728ec6157033ef9805bacc48             0\n",
       "95419  ffffd2657e2aad2907e67c3e9daecbeb             0\n",
       "\n",
       "[95420 rows x 2 columns]"
      ]
     },
     "execution_count": 98,
     "metadata": {},
     "output_type": "execute_result"
    }
   ],
   "source": [
    "repeat_buyer"
   ]
  },
  {
   "cell_type": "markdown",
   "metadata": {},
   "source": [
    "## Number of orders over time\n"
   ]
  },
  {
   "cell_type": "code",
   "execution_count": null,
   "metadata": {},
   "outputs": [
    {
     "data": {
      "image/png": "[encoded data removed]",
      "text/plain": [
       "<Figure size 1200x400 with 2 Axes>"
      ]
     },
     "metadata": {},
     "output_type": "display_data"
    }
   ],
   "source": [
    "orders_per_month = df_total['order_purchase_timestamp'].dt.to_period('M')\n",
    "orders_per_month_repeat = df_total[df_total['no_of_repeat'] > 0].order_purchase_timestamp.dt.to_period('M')\n",
    "orders_count_by_month = orders_per_month.groupby(orders_per_month).size()\n",
    "orders_count_by_month_repeat = orders_per_month_repeat.groupby(orders_per_month_repeat).size()\n",
    "\n",
    "if orders_count_by_month.iloc[-1] == 0:\n",
    "    orders_count_by_month = orders_count_by_month.iloc[:-1]\n",
    "\n",
    "plt.figure(figsize=(12, 4))\n",
    "plt.subplot(1, 2, 1)\n",
    "orders_count_by_month.plot(kind='line')\n",
    "plt.title('Number of Orders per Month')\n",
    "plt.xlabel('Month')\n",
    "plt.ylabel('Number of Orders')\n",
    "plt.xticks(rotation=45)\n",
    "plt.grid(True)\n",
    "\n",
    "\n",
    "plt.subplot(1, 2, 2)\n",
    "orders_count_by_month_repeat.plot(kind='line', color='orange')\n",
    "plt.title('Number of Orders per Month made by repeat buyers')\n",
    "plt.xlabel('Month')\n",
    "plt.ylabel('Number of Orders')\n",
    "plt.xticks(rotation=45)\n",
    "plt.grid(True)\n",
    "plt.tight_layout()\n",
    "plt.show()\n"
   ]
  },
  {
   "cell_type": "markdown",
   "metadata": {},
   "source": [
    "From these graphs we can see:\n",
    "*   The trends for both graphs were similar\n",
    "*   There were an upwards trend from Jan 2017 to Sept 2017\n",
    "*   From Sept 2017 till June 2018, the number of sales remained around the same at around 8000 orders for the total orders and 2000 for the repeat customers\n",
    "*   There was a small drop in sale in Dec 2017 and a major drop in Sept 2018 but this could be due to there not being enough data in that month\n",
    "\n",
    "From this we can tell that the time give valueable information and should be included as a factor "
   ]
  },
  {
   "cell_type": "code",
   "execution_count": 48,
   "metadata": {},
   "outputs": [],
   "source": [
    "df_total['order_year'] = df_total['order_purchase_timestamp'].dt.year\n",
    "df_total['order_month'] = df_total['order_purchase_timestamp'].dt.month"
   ]
  },
  {
   "cell_type": "markdown",
   "metadata": {},
   "source": [
    "## Product Catogory"
   ]
  },
  {
   "cell_type": "code",
   "execution_count": 49,
   "metadata": {},
   "outputs": [],
   "source": [
    "def show_percentage(g,feature):\n",
    "    total = len(feature)\n",
    "    for p in g.patches:\n",
    "        percentage = '{:.1f}%'.format(100 * p.get_height()/total)\n",
    "        x = p.get_x() + p.get_width()/2\n",
    "        y = p.get_y() + p.get_height()\n",
    "        g.annotate(percentage, (x, y), size = 12,ha='center')"
   ]
  },
  {
   "cell_type": "code",
   "execution_count": 39,
   "metadata": {},
   "outputs": [],
   "source": [
    "df_total['product_category_name_english'] = df_total['product_category_name_english'].str.replace(' ', '_')\n",
    "# Define broader mapping categories\n",
    "broader_mapping = {\n",
    "    'home_furnishing': [\n",
    "        'bed_bath_table', 'furniture_decor', 'housewares', 'home_appliances',\n",
    "        'furniture_living_room', 'furniture_bedroom', 'furniture_mattress_and_upholstery',\n",
    "        'home_confort', 'home_construction', 'kitchen_dining_laundry_garden_furniture',\n",
    "        'home_appliances_2', 'office_furniture', 'portable_kitchen_food_preparers', 'air_conditioning'\n",
    "    ],\n",
    "    'electronics_accessories': [\n",
    "        'computers_accessories', 'telephony', 'electronics', 'small_appliances',\n",
    "        'fixed_telephony', 'tablets_printing_image', 'pc_gamer'\n",
    "    ],\n",
    "    'fashion_accessories': [\n",
    "        'watches_gifts', 'fashion_bags_accessories', 'fashion_shoes', 'fashion_male_clothing',\n",
    "        'fashion_underwear_beach', 'fashion_sport', 'fashio_female_clothing', 'fashion_childrens_clothes',\n",
    "        'luggage_accessories'\n",
    "    ],\n",
    "    'health_beauty': [\n",
    "        'health_beauty', 'perfumery', 'diapers_and_hygiene',\n",
    "    ],\n",
    "    'toys_entertainment': [\n",
    "        'toys', 'cool_stuff', 'consoles_games', 'musical_instruments', 'party_supplies',\n",
    "    ],\n",
    "    'sports_pets_outdoors': [\n",
    "        'sports_leisure', 'garden_tools', 'agro_industry_and_commerce', 'pet_shop'\n",
    "    ],\n",
    "    'books_media_stationery': [\n",
    "        'books_general_interest', 'books_technical', 'books_imported', 'cds_dvds_musicals',\n",
    "        'dvds_blu_ray', 'music', 'stationery'\n",
    "    ],\n",
    "    'auto_tools': [\n",
    "        'auto', 'construction_tools_construction', 'construction_tools_safety',\n",
    "        'costruction_tools_garden', 'costruction_tools_tools', 'construction_tools_lights'\n",
    "    ],\n",
    "    'fnb': [\n",
    "        'food_drink', 'food', 'drinks','la_cuisine'\n",
    "    ],\n",
    "    'miscellaneous': [\n",
    "        'unknown', 'market_place', 'signaling_and_security', 'industry_commerce_and_business',\n",
    "        'christmas_supplies', 'audio', 'art', 'cine_photo', 'arts_and_craftmanship', 'flowers',\n",
    "        'security_and_services'\n",
    "    ],\n",
    "    'none': [\n",
    "        'none'\n",
    "    ]\n",
    "}\n",
    "\n",
    "def map_to_broad_category(product_category_name):\n",
    "    for category, products in broader_mapping.items():\n",
    "        if product_category_name in products:\n",
    "            return category\n",
    "    return 'miscellaneous'  \n",
    "\n",
    "df_total['category_grouping'] = df_total['product_category_name_english'].apply(map_to_broad_category)"
   ]
  },
  {
   "cell_type": "markdown",
   "metadata": {},
   "source": [
    "Each product is mapped into more broad range of categories"
   ]
  },
  {
   "cell_type": "code",
   "execution_count": null,
   "metadata": {},
   "outputs": [
    {
     "data": {
      "image/png": "[encoded data removed]",
      "text/plain": [
       "<Figure size 1200x400 with 2 Axes>"
      ]
     },
     "metadata": {},
     "output_type": "display_data"
    },
    {
     "data": {
      "image/png": "[encoded data removed]",
      "text/plain": [
       "<Figure size 1200x400 with 2 Axes>"
      ]
     },
     "metadata": {},
     "output_type": "display_data"
    }
   ],
   "source": [
    "categories = df_total['product_category_name_english']\n",
    "\n",
    "category_counts = categories.value_counts().head()\n",
    "plt.figure(figsize=(12, 4))\n",
    "plt.subplot(1, 2, 1)\n",
    "plt.title('Top categories of products with most orders')\n",
    "sns.barplot(y=category_counts.index, x=category_counts,\n",
    " orient='h',hue=category_counts.index)\n",
    "plt.xlabel('Count')\n",
    "plt.ylabel('Category')\n",
    "\n",
    "categories = df_total['category_grouping']\n",
    "category_counts = categories.value_counts().head()\n",
    "plt.subplot(1, 2, 2)\n",
    "plt.title('Top broad categories of products with most orders')\n",
    "sns.barplot(y=category_counts.index, x=category_counts,\n",
    " orient='h',hue=category_counts.index)\n",
    "plt.xlabel('Count')\n",
    "plt.ylabel('Category')\n",
    "plt.tight_layout()\n",
    "plt.show()\n",
    "\n",
    "categories = df_total[df_total['no_of_repeat'] > 0].product_category_name_english\n",
    "# Count the occurrences of each category\n",
    "category_counts = categories.value_counts().head()\n",
    "plt.figure(figsize=(12, 4))\n",
    "plt.subplot(1, 2, 1)\n",
    "plt.title('Top categories of products with most orders from repeat buyers')\n",
    "sns.barplot(y=category_counts.index, x=category_counts,\n",
    " orient='h',hue=category_counts.index)\n",
    "plt.xlabel('Count')\n",
    "plt.ylabel('Category')\n",
    "\n",
    "categories = df_total[df_total['no_of_repeat'] > 0].category_grouping\n",
    "category_counts = categories.value_counts().head()\n",
    "plt.subplot(1, 2, 2)\n",
    "plt.title('Top broad categories of products with most orders from repeat buyers')\n",
    "sns.barplot(y=category_counts.index, x=category_counts,\n",
    " orient='h',hue=category_counts.index)\n",
    "plt.xlabel('Count')\n",
    "plt.ylabel('Category')\n",
    "plt.tight_layout()\n",
    "plt.show()\n"
   ]
  },
  {
   "cell_type": "markdown",
   "metadata": {},
   "source": [
    "From this we can infer:\n",
    "*   The most popular broad categories were home_furnishing with bed_bath_table for both all buyers and repeat buyers\n",
    "*   However, all the other placements of categories are all different showing that the products that repeat buyers tend to purchase are different from the overall distribution"
   ]
  },
  {
   "cell_type": "markdown",
   "metadata": {},
   "source": [
    "This graph shows that the top 3 products have a significant difference from the rest of the products. While the product_id does not show any information about the project, we can use the categories to gain more insights into these products"
   ]
  },
  {
   "cell_type": "markdown",
   "metadata": {},
   "source": [
    "## Review Scores\n"
   ]
  },
  {
   "cell_type": "code",
   "execution_count": null,
   "metadata": {},
   "outputs": [
    {
     "data": {
      "image/png": "[encoded data removed]",
      "text/plain": [
       "<Figure size 800x300 with 2 Axes>"
      ]
     },
     "metadata": {},
     "output_type": "display_data"
    }
   ],
   "source": [
    "plt.figure(figsize=(8,3))\n",
    "plt.subplot(1, 2, 1)\n",
    "g = sns.countplot(x='review_score', data=df_total,legend=False,hue='review_score')\n",
    "plt.title('Review Score')\n",
    "show_percentage(g, df_total.review_score) \n",
    "\n",
    "plt.subplot(1, 2, 2)\n",
    "g = sns.countplot(x='review_score', data=df_total[df_total['no_of_repeat'] > 0],legend=False,hue='review_score')\n",
    "plt.title('Review Score of Repeat Buyers')\n",
    "show_percentage(g, df_total[df_total['no_of_repeat'] > 0].review_score) \n",
    "plt.show()"
   ]
  },
  {
   "cell_type": "code",
   "execution_count": 55,
   "metadata": {},
   "outputs": [
    {
     "name": "stdout",
     "output_type": "stream",
     "text": [
      "Average Review Score: 4.0 Stars\n",
      "Average Review Score of Repeat Buyers: 3.63 Stars\n"
     ]
    }
   ],
   "source": [
    "print(f\"Average Review Score: {round(df_total.review_score.mean(),2)} Stars\\nAverage Review Score of Repeat Buyers: {round(df_total[df_total['no_of_repeat'] > 0].review_score.mean(),2)} Stars\")"
   ]
  },
  {
   "cell_type": "markdown",
   "metadata": {},
   "source": [
    "From this we can see that a majority of the reviews were 5 Stars. However by looking at the average of the review scores, we can tell that Repeat Buyers on average gives lower ratings. This could mean that repeat buyers could be more harshed with their reviews which could be a result of more experience with buying products online."
   ]
  },
  {
   "cell_type": "markdown",
   "metadata": {},
   "source": [
    "## Sellers"
   ]
  },
  {
   "cell_type": "code",
   "execution_count": null,
   "metadata": {},
   "outputs": [
    {
     "data": {
      "image/png": "[encoded data removed]",
      "text/plain": [
       "<Figure size 1000x600 with 1 Axes>"
      ]
     },
     "metadata": {},
     "output_type": "display_data"
    }
   ],
   "source": [
    "df_total['seller_id_shorten'] = df_total['seller_id'].str[-6:]\n",
    "plt.figure(figsize=(10, 6))\n",
    "df_total['seller_id_shorten'].value_counts()[:10].plot.pie(\n",
    "    autopct='%1.1f%%', shadow=False, startangle=90, cmap='tab20',\n",
    "    labels=df_total['seller_id_shorten'].value_counts()[:10].index  # Add labels\n",
    ")\n",
    "\n",
    "plt.title(\"Top 10 Sellers\", size=14, weight='bold')\n",
    "plt.ylabel('')\n",
    "plt.tight_layout()\n",
    "plt.show()\n"
   ]
  },
  {
   "cell_type": "code",
   "execution_count": 43,
   "metadata": {},
   "outputs": [
    {
     "data": {
      "text/plain": [
       "Index(['order_id', 'customer_id', 'order_status', 'order_purchase_timestamp',\n",
       "       'order_estimated_delivery_date', 'order_item_id', 'product_id',\n",
       "       'seller_id', 'shipping_limit_date', 'price', 'freight_value',\n",
       "       'product_name_lenght', 'product_description_lenght',\n",
       "       'product_photos_qty', 'product_weight_g', 'product_length_cm',\n",
       "       'product_height_cm', 'product_width_cm',\n",
       "       'product_category_name_english', 'total_value', 'vouchers_used',\n",
       "       'payment_type', 'review_id', 'review_score', 'customer_unique_id',\n",
       "       'customer_zip_code_prefix', 'customer_city', 'customer_state',\n",
       "       'seller_zip_code_prefix', 'seller_city', 'seller_state',\n",
       "       'category_grouping', 'seller_id_shorten'],\n",
       "      dtype='object')"
      ]
     },
     "execution_count": 43,
     "metadata": {},
     "output_type": "execute_result"
    }
   ],
   "source": [
    "df_total.columns"
   ]
  },
  {
   "cell_type": "code",
   "execution_count": 44,
   "metadata": {},
   "outputs": [
    {
     "data": {
      "image/png": "[encoded data removed]",
      "text/plain": [
       "<Figure size 1200x600 with 1 Axes>"
      ]
     },
     "metadata": {},
     "output_type": "display_data"
    }
   ],
   "source": [
    "# Group by 'seller_id_shorten' and 'product_category_name_english' and count\n",
    "seller_category = df_total.groupby(['seller_id_shorten', 'category_grouping'])\\\n",
    "                          .size().reset_index(name='count')\\\n",
    "                          .sort_values(by='count', ascending=False).head(10)\n",
    "\n",
    "# Combine 'seller_id_shorten' and 'product_category_name_english' into a single column\n",
    "seller_category['seller_and_category'] = seller_category['seller_id_shorten'] + \" (\" + seller_category['category_grouping'] + \")\"\n",
    "\n",
    "# Plot\n",
    "plt.figure(figsize=(12, 6))\n",
    "sns.barplot(\n",
    "    x='count', \n",
    "    y='seller_and_category', \n",
    "    data=seller_category, \n",
    "    hue='seller_and_category'\n",
    ")\n",
    "\n",
    "# Add labels and title\n",
    "plt.title(\"Top 10 Sellers and Their Product Categories\", fontsize=16, weight='bold')\n",
    "plt.xlabel(\"Count\", fontsize=12)\n",
    "plt.ylabel(\"Seller ID and Product Category\", fontsize=12)\n",
    "plt.tight_layout()\n",
    "plt.show()\n"
   ]
  },
  {
   "cell_type": "markdown",
   "metadata": {},
   "source": [
    "From these graphs we can see that a majority of the sellers most sold item were from the home_furnishing category. This provideds us valueable infromation in know that these are the mo"
   ]
  }
 ],
 "metadata": {
  "colab": {
   "provenance": [],
   "toc_visible": true
  },
  "kernelspec": {
   "display_name": "Python 3 (ipykernel)",
   "language": "python",
   "name": "python3"
  },
  "language_info": {
   "codemirror_mode": {
    "name": "ipython",
    "version": 3
   },
   "file_extension": ".py",
   "mimetype": "text/x-python",
   "name": "python",
   "nbconvert_exporter": "python",
   "pygments_lexer": "ipython3",
   "version": "3.11.5"
  }
 },
 "nbformat": 4,
 "nbformat_minor": 1
}
